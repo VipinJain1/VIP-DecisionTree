{
 "cells": [
  {
   "cell_type": "markdown",
   "metadata": {},
   "source": [
    "# DecisionTree Analysis"
   ]
  },
  {
   "cell_type": "code",
   "execution_count": null,
   "metadata": {},
   "outputs": [],
   "source": []
  },
  {
   "cell_type": "raw",
   "metadata": {},
   "source": [
    "<p>\n",
    "DonorsChoose.org receives hundreds of thousands of project proposals each year for classroom projects in need of funding. Right now, a large number of volunteers is needed to manually screen each submission before it's approved to be posted on the DonorsChoose.org website.\n",
    "</p>\n",
    "<p>\n",
    "    Next year, DonorsChoose.org expects to receive close to 500,000 project proposals. As a result, there are three main problems they need to solve:\n",
    "<ul>\n",
    "<li>\n",
    "    How to scale current manual processes and resources to screen 500,000 projects so that they can be posted as quickly and as efficiently as possible</li>F\n",
    "    <li>How to increase the consistency of project vetting across different volunteers to improve the experience for teachers</li>\n",
    "    <li>How to focus volunteer time on the applications that need the most assistance</li>\n",
    "    </ul>\n",
    "</p>    \n",
    "<p>\n",
    "The goal of the competition is to predict whether or not a DonorsChoose.org project proposal submitted by a teacher will be approved, using the text of project descriptions as well as additional metadata about the project, teacher, and school. DonorsChoose.org can then use this information to identify projects most likely to need further review before approval.\n",
    "</p>"
   ]
  },
  {
   "cell_type": "markdown",
   "metadata": {},
   "source": [
    "### Notes on the Essay Data\n",
    "\n",
    "<ul>\n",
    "Prior to May 17, 2016, the prompts for the essays were as follows:\n",
    "<li>__project_essay_1:__ \"Introduce us to your classroom\"</li>\n",
    "<li>__project_essay_2:__ \"Tell us more about your students\"</li>\n",
    "<li>__project_essay_3:__ \"Describe how your students will use the materials you're requesting\"</li>\n",
    "<li>__project_essay_3:__ \"Close by sharing why your project will make a difference\"</li>\n",
    "</ul>\n",
    "\n",
    "\n",
    "<ul>\n",
    "Starting on May 17, 2016, the number of essays was reduced from 4 to 2, and the prompts for the first 2 essays were changed to the following:<br>\n",
    "<li>__project_essay_1:__ \"Describe your students: What makes your students special? Specific details about their background, your neighborhood, and your school are all helpful.\"</li>\n",
    "<li>__project_essay_2:__ \"About your project: How will these materials make a difference in your students' learning and improve their school lives?\"</li>\n",
    "<br>For all projects with project_submitted_datetime of 2016-05-17 and later, the values of project_essay_3 and project_essay_4 will be NaN.\n",
    "</ul>\n"
   ]
  },
  {
   "cell_type": "markdown",
   "metadata": {},
   "source": [
    "## Step 1: Import the necessary Libraries\n",
    "we will need to import libraries that allow for data analysis and data visualization to get acclimated to the dataset. We will be using pandas, numpy, matplotlib and seaborn to conduct this. Data Exploration libraries"
   ]
  },
  {
   "cell_type": "code",
   "execution_count": 1,
   "metadata": {},
   "outputs": [],
   "source": [
    "%matplotlib inline\n",
    "import warnings\n",
    "warnings.filterwarnings(\"ignore\")\n",
    "warnings.filterwarnings(action='ignore', category=UserWarning, module='gensim')\n",
    "warnings.filterwarnings(\"ignore\",'detected Windows; aliasing chunkize to chunkize_serial')\n",
    "warnings.filterwarnings(\"ignore\", message=\"numpy.dtype size changed\")\n",
    "\n",
    "import sqlite3\n",
    "import pandas as pd\n",
    "import numpy as np\n",
    "import nltk\n",
    "import string\n",
    "import matplotlib.pyplot as plt\n",
    "import seaborn as sns\n",
    "\n",
    "from sklearn.feature_extraction.text import TfidfTransformer\n",
    "from sklearn.feature_extraction.text import TfidfVectorizer\n",
    "from sklearn.feature_extraction.text import CountVectorizer\n",
    "from sklearn.metrics import confusion_matrix\n",
    "from sklearn import metrics\n",
    "from sklearn.metrics import roc_curve, auc\n",
    "from nltk.stem.porter import PorterStemmer\n",
    "\n",
    "import re\n",
    "# Tutorial about Python regular expressions: https://pymotw.com/2/re/\n",
    "import string\n",
    "from nltk.corpus import stopwords\n",
    "from nltk.stem import PorterStemmer\n",
    "from nltk.stem.wordnet import WordNetLemmatizer\n",
    "\n",
    "from gensim.models import Word2Vec\n",
    "from gensim.models import KeyedVectors\n",
    "import pickle\n",
    "from tqdm import tqdm\n",
    "import os\n",
    "from collections import Counter"
   ]
  },
  {
   "cell_type": "markdown",
   "metadata": {},
   "source": [
    "## Step 2: Read in the dataset.\n",
    "We will use the pandas .read_csv() method to read in the dataset. Then we will use the. head() method to observe the first few rows of the data, to understand the information better. In our case, the feature(column) headers tell us pretty little. This is fine because we are merely trying to gain insight via classifying new data points by referencing it’s neighboring elements."
   ]
  },
  {
   "cell_type": "markdown",
   "metadata": {},
   "source": [
    "## 1.1 Reading Data"
   ]
  },
  {
   "cell_type": "code",
   "execution_count": 2,
   "metadata": {},
   "outputs": [
    {
     "data": {
      "text/html": [
       "<div>\n",
       "<style scoped>\n",
       "    .dataframe tbody tr th:only-of-type {\n",
       "        vertical-align: middle;\n",
       "    }\n",
       "\n",
       "    .dataframe tbody tr th {\n",
       "        vertical-align: top;\n",
       "    }\n",
       "\n",
       "    .dataframe thead th {\n",
       "        text-align: right;\n",
       "    }\n",
       "</style>\n",
       "<table border=\"1\" class=\"dataframe\">\n",
       "  <thead>\n",
       "    <tr style=\"text-align: right;\">\n",
       "      <th></th>\n",
       "      <th>id</th>\n",
       "      <th>description</th>\n",
       "      <th>quantity</th>\n",
       "      <th>price</th>\n",
       "    </tr>\n",
       "  </thead>\n",
       "  <tbody>\n",
       "    <tr>\n",
       "      <th>0</th>\n",
       "      <td>p233245</td>\n",
       "      <td>LC652 - Lakeshore Double-Space Mobile Drying Rack</td>\n",
       "      <td>1</td>\n",
       "      <td>149.0</td>\n",
       "    </tr>\n",
       "  </tbody>\n",
       "</table>\n",
       "</div>"
      ],
      "text/plain": [
       "        id                                        description  quantity  price\n",
       "0  p233245  LC652 - Lakeshore Double-Space Mobile Drying Rack         1  149.0"
      ]
     },
     "execution_count": 2,
     "metadata": {},
     "output_type": "execute_result"
    }
   ],
   "source": [
    "project_data = pd.read_csv(\"C:\\\\VipinML\\\\Assignment 2\\\\Assignments_DonorsChoose_2018\\\\train_data.csv\")\n",
    "resource_data = pd.read_csv(\"C:\\\\VipinML\\Assignment 2\\\\Assignments_DonorsChoose_2018\\\\resources.csv\")\n",
    "#Limit the data for testing purpose since processing takes few hours for full set..\n",
    "\n",
    "project_data = project_data.head(2000)\n",
    "resource_data = resource_data.head (2000)\n",
    "\n",
    "resource_data.head(1)\n"
   ]
  },
  {
   "cell_type": "code",
   "execution_count": 3,
   "metadata": {
    "scrolled": true
   },
   "outputs": [
    {
     "name": "stdout",
     "output_type": "stream",
     "text": [
      "Number of data points in train data (2000, 17)\n",
      "--------------------------------------------------\n",
      "The attributes of data : ['Unnamed: 0' 'id' 'teacher_id' 'teacher_prefix' 'school_state'\n",
      " 'project_submitted_datetime' 'project_grade_category'\n",
      " 'project_subject_categories' 'project_subject_subcategories'\n",
      " 'project_title' 'project_essay_1' 'project_essay_2' 'project_essay_3'\n",
      " 'project_essay_4' 'project_resource_summary'\n",
      " 'teacher_number_of_previously_posted_projects' 'project_is_approved']\n"
     ]
    }
   ],
   "source": [
    "print(\"Number of data points in train data\", project_data.shape)\n",
    "print('-'*50)\n",
    "print(\"The attributes of data :\", project_data.columns.values)"
   ]
  },
  {
   "cell_type": "code",
   "execution_count": 4,
   "metadata": {},
   "outputs": [
    {
     "data": {
      "text/html": [
       "<div>\n",
       "<style scoped>\n",
       "    .dataframe tbody tr th:only-of-type {\n",
       "        vertical-align: middle;\n",
       "    }\n",
       "\n",
       "    .dataframe tbody tr th {\n",
       "        vertical-align: top;\n",
       "    }\n",
       "\n",
       "    .dataframe thead th {\n",
       "        text-align: right;\n",
       "    }\n",
       "</style>\n",
       "<table border=\"1\" class=\"dataframe\">\n",
       "  <thead>\n",
       "    <tr style=\"text-align: right;\">\n",
       "      <th></th>\n",
       "      <th>Unnamed: 0</th>\n",
       "      <th>id</th>\n",
       "      <th>teacher_id</th>\n",
       "      <th>teacher_prefix</th>\n",
       "      <th>school_state</th>\n",
       "      <th>Date</th>\n",
       "      <th>project_grade_category</th>\n",
       "      <th>project_subject_categories</th>\n",
       "      <th>project_subject_subcategories</th>\n",
       "      <th>project_title</th>\n",
       "      <th>project_essay_1</th>\n",
       "      <th>project_essay_2</th>\n",
       "      <th>project_essay_3</th>\n",
       "      <th>project_essay_4</th>\n",
       "      <th>project_resource_summary</th>\n",
       "      <th>teacher_number_of_previously_posted_projects</th>\n",
       "      <th>project_is_approved</th>\n",
       "    </tr>\n",
       "  </thead>\n",
       "  <tbody>\n",
       "    <tr>\n",
       "      <th>473</th>\n",
       "      <td>100660</td>\n",
       "      <td>p234804</td>\n",
       "      <td>cbc0e38f522143b86d372f8b43d4cff3</td>\n",
       "      <td>Mrs.</td>\n",
       "      <td>GA</td>\n",
       "      <td>2016-04-27 00:53:00</td>\n",
       "      <td>Grades PreK-2</td>\n",
       "      <td>Applied Learning</td>\n",
       "      <td>Early Development</td>\n",
       "      <td>Flexible Seating for Flexible Learning</td>\n",
       "      <td>I recently read an article about giving studen...</td>\n",
       "      <td>I teach at a low-income (Title 1) school. Ever...</td>\n",
       "      <td>We need a classroom rug that we can use as a c...</td>\n",
       "      <td>Benjamin Franklin once said, \\\"Tell me and I f...</td>\n",
       "      <td>My students need flexible seating in the class...</td>\n",
       "      <td>2</td>\n",
       "      <td>1</td>\n",
       "    </tr>\n",
       "  </tbody>\n",
       "</table>\n",
       "</div>"
      ],
      "text/plain": [
       "     Unnamed: 0       id                        teacher_id teacher_prefix  \\\n",
       "473      100660  p234804  cbc0e38f522143b86d372f8b43d4cff3           Mrs.   \n",
       "\n",
       "    school_state                Date project_grade_category  \\\n",
       "473           GA 2016-04-27 00:53:00          Grades PreK-2   \n",
       "\n",
       "    project_subject_categories project_subject_subcategories  \\\n",
       "473           Applied Learning             Early Development   \n",
       "\n",
       "                              project_title  \\\n",
       "473  Flexible Seating for Flexible Learning   \n",
       "\n",
       "                                       project_essay_1  \\\n",
       "473  I recently read an article about giving studen...   \n",
       "\n",
       "                                       project_essay_2  \\\n",
       "473  I teach at a low-income (Title 1) school. Ever...   \n",
       "\n",
       "                                       project_essay_3  \\\n",
       "473  We need a classroom rug that we can use as a c...   \n",
       "\n",
       "                                       project_essay_4  \\\n",
       "473  Benjamin Franklin once said, \\\"Tell me and I f...   \n",
       "\n",
       "                              project_resource_summary  \\\n",
       "473  My students need flexible seating in the class...   \n",
       "\n",
       "     teacher_number_of_previously_posted_projects  project_is_approved  \n",
       "473                                             2                    1  "
      ]
     },
     "execution_count": 4,
     "metadata": {},
     "output_type": "execute_result"
    }
   ],
   "source": [
    "# how to replace elements in list python: https://stackoverflow.com/a/2582163/4084039\n",
    "cols = ['Date' if x=='project_submitted_datetime' else x for x in list(project_data.columns)]\n",
    "#sort dataframe based on time pandas python: https://stackoverflow.com/a/49702492/4084039\n",
    "project_data['Date'] = pd.to_datetime(project_data['project_submitted_datetime'])\n",
    "project_data.drop('project_submitted_datetime', axis=1, inplace=True)\n",
    "project_data.sort_values(by=['Date'], inplace=True)\n",
    "\n",
    "# how to reorder columns pandas python: https://stackoverflow.com/a/13148611/4084039\n",
    "project_data = project_data[cols]\n",
    "project_data.head(1)\n",
    "\n"
   ]
  },
  {
   "cell_type": "markdown",
   "metadata": {},
   "source": [
    "## 1.2 preprocessing of `project_subject_categories`"
   ]
  },
  {
   "cell_type": "code",
   "execution_count": 5,
   "metadata": {},
   "outputs": [],
   "source": [
    "catogories = list(project_data['project_subject_categories'].values)\n",
    "# remove special characters from list of strings python: https://stackoverflow.com/a/47301924/4084039\n",
    "\n",
    "# https://www.geeksforgeeks.org/removing-stop-words-nltk-python/\n",
    "# https://stackoverflow.com/questions/23669024/how-to-strip-a-specific-word-from-a-string\n",
    "# https://stackoverflow.com/questions/8270092/remove-all-whitespace-in-a-string-in-python\n",
    "cat_list = []\n",
    "for i in catogories:\n",
    "    temp = \"\"\n",
    "    # consider we have text like this \"Math & Science, Warmth, Care & Hunger\"\n",
    "    for j in i.split(','): # it will split it in three parts [\"Math & Science\", \"Warmth\", \"Care & Hunger\"]\n",
    "        if 'The' in j.split(): # this will split each of the catogory based on space \"Math & Science\"=> \"Math\",\"&\", \"Science\"\n",
    "            j=j.replace('The','') # if we have the words \"The\" we are going to replace it with ''(i.e removing 'The')\n",
    "        j = j.replace(' ','') # we are placeing all the ' '(space) with ''(empty) ex:\"Math & Science\"=>\"Math&Science\"\n",
    "        temp+=j.strip()+\" \" #\" abc \".strip() will return \"abc\", remove the trailing spaces\n",
    "        temp = temp.replace('&','_') # we are replacing the & value into \n",
    "    cat_list.append(temp.strip())\n",
    "    \n",
    "project_data['clean_categories'] = cat_list\n",
    "project_data.drop(['project_subject_categories'], axis=1, inplace=True)\n",
    "\n",
    "from collections import Counter\n",
    "my_counter = Counter()\n",
    "for word in project_data['clean_categories'].values:\n",
    "    my_counter.update(word.split())\n",
    "\n",
    "cat_dict = dict(my_counter)\n",
    "sorted_cat_dict = dict(sorted(cat_dict.items(), key=lambda kv: kv[1]))\n"
   ]
  },
  {
   "cell_type": "markdown",
   "metadata": {},
   "source": [
    "## 1.3 preprocessing of `project_subject_subcategories`"
   ]
  },
  {
   "cell_type": "code",
   "execution_count": 6,
   "metadata": {},
   "outputs": [],
   "source": [
    "sub_catogories = list(project_data['project_subject_subcategories'].values)\n",
    "# remove special characters from list of strings python: https://stackoverflow.com/a/47301924/4084039\n",
    "\n",
    "# https://www.geeksforgeeks.org/removing-stop-words-nltk-python/\n",
    "# https://stackoverflow.com/questions/23669024/how-to-strip-a-specific-word-from-a-string\n",
    "# https://stackoverflow.com/questions/8270092/remove-all-whitespace-in-a-string-in-python\n",
    "\n",
    "sub_cat_list = []\n",
    "for i in sub_catogories:\n",
    "    temp = \"\"\n",
    "    # consider we have text like this \"Math & Science, Warmth, Care & Hunger\"\n",
    "    for j in i.split(','): # it will split it in three parts [\"Math & Science\", \"Warmth\", \"Care & Hunger\"]\n",
    "        if 'The' in j.split(): # this will split each of the catogory based on space \"Math & Science\"=> \"Math\",\"&\", \"Science\"\n",
    "            j=j.replace('The','') # if we have the words \"The\" we are going to replace it with ''(i.e removing 'The')\n",
    "        j = j.replace(' ','') # we are placeing all the ' '(space) with ''(empty) ex:\"Math & Science\"=>\"Math&Science\"\n",
    "        temp +=j.strip()+\" \"#\" abc \".strip() will return \"abc\", remove the trailing spaces\n",
    "        temp = temp.replace('&','_')\n",
    "    sub_cat_list.append(temp.strip())\n",
    "\n",
    "project_data['clean_subcategories'] = sub_cat_list\n",
    "project_data.drop(['project_subject_subcategories'], axis=1, inplace=True)\n",
    "\n",
    "# count of all the words in corpus python: https://stackoverflow.com/a/22898595/4084039\n",
    "my_counter = Counter()\n",
    "for word in project_data['clean_subcategories'].values:\n",
    "    my_counter.update(word.split())\n",
    "    \n",
    "sub_cat_dict = dict(my_counter)\n",
    "sorted_sub_cat_dict = dict(sorted(sub_cat_dict.items(), key=lambda kv: kv[1]))\n",
    "\n"
   ]
  },
  {
   "cell_type": "code",
   "execution_count": 7,
   "metadata": {},
   "outputs": [],
   "source": [
    "teacher_cat = list(project_data['teacher_prefix'].values)\n",
    "# remove special characters from list of strings python: https://stackoverflow.com/a/47301924/4084039\n",
    "\n",
    "# https://www.geeksforgeeks.org/removing-stop-words-nltk-python/\n",
    "# https://stackoverflow.com/questions/23669024/how-to-strip-a-specific-word-from-a-string\n",
    "# https://stackoverflow.com/questions/8270092/remove-all-whitespace-in-a-string-in-python\n",
    "cat_list = []\n",
    "for i in teacher_cat:\n",
    "    temp = \"\"\n",
    "    # consider we have text like this \"Math & Science, Warmth, Care & Hunger\"\n",
    "    j = j.replace(' ','') # we are placeing all the ' '(space) with ''(empty) ex:\"Math & Science\"=>\"Math&Science\"\n",
    "    temp+=j.strip()+\" \" #\" abc \".strip() will return \"abc\", remove the trailing spaces\n",
    "    temp = temp.replace('&','_') # we are replacing the & value into \n",
    "    cat_list.append(temp.strip())\n",
    "\n",
    "project_data.drop(['teacher_prefix'], axis=1, inplace=True)\n",
    "project_data['teacher_prefix'] = sub_cat_list\n",
    "    \n",
    "from collections import Counter\n",
    "my_counter = Counter()\n",
    "for word in project_data['teacher_prefix'].values:\n",
    "    my_counter.update(word.split())\n",
    "\n",
    "cat_dict = dict(my_counter)\n",
    "sorted_teacher_dict = dict(sorted(cat_dict.items(), key=lambda kv: kv[1]))\n"
   ]
  },
  {
   "cell_type": "markdown",
   "metadata": {},
   "source": [
    "## 1.3 Text preprocessing"
   ]
  },
  {
   "cell_type": "code",
   "execution_count": 8,
   "metadata": {},
   "outputs": [],
   "source": [
    "# merge two column text dataframe: \n",
    "project_data[\"essay\"] = project_data[\"project_essay_1\"].map(str) +\\\n",
    "                        project_data[\"project_essay_2\"].map(str) + \\\n",
    "                        project_data[\"project_essay_3\"].map(str) + \\\n",
    "                        project_data[\"project_essay_4\"].map(str)\n",
    "\n"
   ]
  },
  {
   "cell_type": "code",
   "execution_count": 9,
   "metadata": {},
   "outputs": [],
   "source": [
    "#clean project_grade_category\n",
    "project_data[\"project_grade_category\"] = \\\n",
    "project_data.apply(lambda x: (x['project_grade_category'].replace(' ', '_')), axis=1)\n",
    "project_data[\"project_grade_category\"] = \\\n",
    "project_data.apply(lambda x: (x['project_grade_category'].replace('-', '_')), axis=1)"
   ]
  },
  {
   "cell_type": "code",
   "execution_count": 10,
   "metadata": {},
   "outputs": [
    {
     "data": {
      "text/html": [
       "<div>\n",
       "<style scoped>\n",
       "    .dataframe tbody tr th:only-of-type {\n",
       "        vertical-align: middle;\n",
       "    }\n",
       "\n",
       "    .dataframe tbody tr th {\n",
       "        vertical-align: top;\n",
       "    }\n",
       "\n",
       "    .dataframe thead th {\n",
       "        text-align: right;\n",
       "    }\n",
       "</style>\n",
       "<table border=\"1\" class=\"dataframe\">\n",
       "  <thead>\n",
       "    <tr style=\"text-align: right;\">\n",
       "      <th></th>\n",
       "      <th>Unnamed: 0</th>\n",
       "      <th>id</th>\n",
       "      <th>teacher_id</th>\n",
       "      <th>school_state</th>\n",
       "      <th>Date</th>\n",
       "      <th>project_grade_category</th>\n",
       "      <th>project_title</th>\n",
       "      <th>project_essay_1</th>\n",
       "      <th>project_essay_2</th>\n",
       "      <th>project_essay_3</th>\n",
       "      <th>project_essay_4</th>\n",
       "      <th>project_resource_summary</th>\n",
       "      <th>teacher_number_of_previously_posted_projects</th>\n",
       "      <th>project_is_approved</th>\n",
       "      <th>clean_categories</th>\n",
       "      <th>clean_subcategories</th>\n",
       "      <th>teacher_prefix</th>\n",
       "      <th>essay</th>\n",
       "    </tr>\n",
       "  </thead>\n",
       "  <tbody>\n",
       "    <tr>\n",
       "      <th>473</th>\n",
       "      <td>100660</td>\n",
       "      <td>p234804</td>\n",
       "      <td>cbc0e38f522143b86d372f8b43d4cff3</td>\n",
       "      <td>GA</td>\n",
       "      <td>2016-04-27 00:53:00</td>\n",
       "      <td>Grades_PreK_2</td>\n",
       "      <td>Flexible Seating for Flexible Learning</td>\n",
       "      <td>I recently read an article about giving studen...</td>\n",
       "      <td>I teach at a low-income (Title 1) school. Ever...</td>\n",
       "      <td>We need a classroom rug that we can use as a c...</td>\n",
       "      <td>Benjamin Franklin once said, \\\"Tell me and I f...</td>\n",
       "      <td>My students need flexible seating in the class...</td>\n",
       "      <td>2</td>\n",
       "      <td>1</td>\n",
       "      <td>AppliedLearning</td>\n",
       "      <td>EarlyDevelopment</td>\n",
       "      <td>EarlyDevelopment</td>\n",
       "      <td>I recently read an article about giving studen...</td>\n",
       "    </tr>\n",
       "  </tbody>\n",
       "</table>\n",
       "</div>"
      ],
      "text/plain": [
       "     Unnamed: 0       id                        teacher_id school_state  \\\n",
       "473      100660  p234804  cbc0e38f522143b86d372f8b43d4cff3           GA   \n",
       "\n",
       "                   Date project_grade_category  \\\n",
       "473 2016-04-27 00:53:00          Grades_PreK_2   \n",
       "\n",
       "                              project_title  \\\n",
       "473  Flexible Seating for Flexible Learning   \n",
       "\n",
       "                                       project_essay_1  \\\n",
       "473  I recently read an article about giving studen...   \n",
       "\n",
       "                                       project_essay_2  \\\n",
       "473  I teach at a low-income (Title 1) school. Ever...   \n",
       "\n",
       "                                       project_essay_3  \\\n",
       "473  We need a classroom rug that we can use as a c...   \n",
       "\n",
       "                                       project_essay_4  \\\n",
       "473  Benjamin Franklin once said, \\\"Tell me and I f...   \n",
       "\n",
       "                              project_resource_summary  \\\n",
       "473  My students need flexible seating in the class...   \n",
       "\n",
       "     teacher_number_of_previously_posted_projects  project_is_approved  \\\n",
       "473                                             2                    1   \n",
       "\n",
       "    clean_categories clean_subcategories    teacher_prefix  \\\n",
       "473  AppliedLearning    EarlyDevelopment  EarlyDevelopment   \n",
       "\n",
       "                                                 essay  \n",
       "473  I recently read an article about giving studen...  "
      ]
     },
     "execution_count": 10,
     "metadata": {},
     "output_type": "execute_result"
    }
   ],
   "source": [
    "project_data.head(1)"
   ]
  },
  {
   "cell_type": "code",
   "execution_count": 11,
   "metadata": {},
   "outputs": [],
   "source": [
    "#### 1.4.2.3 Using Pretrained Models: TFIDF weighted W2V"
   ]
  },
  {
   "cell_type": "code",
   "execution_count": 12,
   "metadata": {},
   "outputs": [],
   "source": [
    "# https://stackoverflow.com/a/47091490/4084039\n",
    "import re\n",
    "\n",
    "def decontracted(phrase):\n",
    "    # specific\n",
    "    phrase = re.sub(r\"won't\", \"will not\", phrase)\n",
    "    phrase = re.sub(r\"can\\'t\", \"can not\", phrase)\n",
    "\n",
    "    # general\n",
    "    phrase = re.sub(r\"n\\'t\", \" not\", phrase)\n",
    "    phrase = re.sub(r\"\\'re\", \" are\", phrase)\n",
    "    phrase = re.sub(r\"\\'s\", \" is\", phrase)\n",
    "    phrase = re.sub(r\"\\'d\", \" would\", phrase)\n",
    "    phrase = re.sub(r\"\\'ll\", \" will\", phrase)\n",
    "    phrase = re.sub(r\"\\'t\", \" not\", phrase)\n",
    "    phrase = re.sub(r\"\\'ve\", \" have\", phrase)\n",
    "    phrase = re.sub(r\"\\'m\", \" am\", phrase)\n",
    "    return phrase"
   ]
  },
  {
   "cell_type": "code",
   "execution_count": 13,
   "metadata": {},
   "outputs": [
    {
     "name": "stdout",
     "output_type": "stream",
     "text": [
      "s a teacher at a Title 1 school, many of my students receive free or reduced price lunch and have extremely limited resources.  Some face challenges daily that many adults never have to experience. M\n",
      "====================================================================================================\n"
     ]
    }
   ],
   "source": [
    "sent = decontracted(project_data['essay'].values[500])\n",
    "print(sent[1:200])\n",
    "print(\"=\"*100)"
   ]
  },
  {
   "cell_type": "code",
   "execution_count": 14,
   "metadata": {},
   "outputs": [
    {
     "name": "stdout",
     "output_type": "stream",
     "text": [
      "s a teacher at a Title 1 school, many of my students receive free or reduced price lunch and have extremely limited resources.  Some face challenges daily that many adults never have to experience. M\n",
      "s a teacher at a Title 1 school, many of my students receive free or reduced price lunch and have extremely limited resources.  Some face challenges daily that many adults never have to experience. M\n"
     ]
    }
   ],
   "source": [
    "# \\r \\n \\t remove from string python: http://texthandler.com/info/remove-line-breaks-python/\n",
    "sent = sent.replace('\\\\r', ' ')\n",
    "sent = sent.replace('\\\\\"', ' ')\n",
    "sent = sent.replace('\\\\n', ' ')\n",
    "print(sent[1:200])\n",
    "print(sent[1:200])"
   ]
  },
  {
   "cell_type": "code",
   "execution_count": 15,
   "metadata": {},
   "outputs": [
    {
     "name": "stdout",
     "output_type": "stream",
     "text": [
      "s a teacher at a Title 1 school many of my students receive free or reduced price lunch and have extremely limited resources Some face challenges daily that many adults never have to experience My st\n"
     ]
    }
   ],
   "source": [
    "#remove spacial character: https://stackoverflow.com/a/5843547/4084039\n",
    "sent = re.sub('[^A-Za-z0-9]+', ' ', sent)\n",
    "print(sent[1:200])"
   ]
  },
  {
   "cell_type": "code",
   "execution_count": 16,
   "metadata": {},
   "outputs": [],
   "source": [
    "# https://gist.github.com/sebleier/554280\n",
    "# we are removing the words from the stop words list: 'no', 'nor', 'not'\n",
    "stopwords= ['i', 'me', 'my', 'myself', 'we', 'our', 'ours', 'ourselves', 'you', \"you're\", \"you've\",\\\n",
    "            \"you'll\", \"you'd\", 'your', 'yours', 'yourself', 'yourselves', 'he', 'him', 'his', 'himself', \\\n",
    "            'she', \"she's\", 'her', 'hers', 'herself', 'it', \"it's\", 'its', 'itself', 'they', 'them', 'their',\\\n",
    "            'theirs', 'themselves', 'what', 'which', 'who', 'whom', 'this', 'that', \"that'll\", 'these', 'those', \\\n",
    "            'am', 'is', 'are', 'was', 'were', 'be', 'been', 'being', 'have', 'has', 'had', 'having', 'do', 'does', \\\n",
    "            'did', 'doing', 'a', 'an', 'the', 'and', 'but', 'if', 'or', 'because', 'as', 'until', 'while', 'of', \\\n",
    "            'at', 'by', 'for', 'with', 'about', 'against', 'between', 'into', 'through', 'during', 'before', 'after',\\\n",
    "            'above', 'below', 'to', 'from', 'up', 'down', 'in', 'out', 'on', 'off', 'over', 'under', 'again', 'further',\\\n",
    "            'then', 'once', 'here', 'there', 'when', 'where', 'why', 'how', 'all', 'any', 'both', 'each', 'few', 'more',\\\n",
    "            'most', 'other', 'some', 'such', 'only', 'own', 'same', 'so', 'than', 'too', 'very', \\\n",
    "            's', 't', 'can', 'will', 'just', 'don', \"don't\", 'should', \"should've\", 'now', 'd', 'll', 'm', 'o', 're', \\\n",
    "            've', 'y', 'ain', 'aren', \"aren't\", 'couldn', \"couldn't\", 'didn', \"didn't\", 'doesn', \"doesn't\", 'hadn',\\\n",
    "            \"hadn't\", 'hasn', \"hasn't\", 'haven', \"haven't\", 'isn', \"isn't\", 'ma', 'mightn', \"mightn't\", 'mustn',\\\n",
    "            \"mustn't\", 'needn', \"needn't\", 'shan', \"shan't\", 'shouldn', \"shouldn't\", 'wasn', \"wasn't\", 'weren', \"weren't\", \\\n",
    "            'won', \"won't\", 'wouldn', \"wouldn't\"]"
   ]
  },
  {
   "cell_type": "markdown",
   "metadata": {},
   "source": [
    "### 1.4.3 Merging price with project_data"
   ]
  },
  {
   "cell_type": "code",
   "execution_count": 17,
   "metadata": {},
   "outputs": [
    {
     "name": "stdout",
     "output_type": "stream",
     "text": [
      "        id   price  quantity\n",
      "1  p003483   81.28        40\n",
      "2  p006068  557.98        16\n"
     ]
    },
    {
     "data": {
      "text/html": [
       "<div>\n",
       "<style scoped>\n",
       "    .dataframe tbody tr th:only-of-type {\n",
       "        vertical-align: middle;\n",
       "    }\n",
       "\n",
       "    .dataframe tbody tr th {\n",
       "        vertical-align: top;\n",
       "    }\n",
       "\n",
       "    .dataframe thead th {\n",
       "        text-align: right;\n",
       "    }\n",
       "</style>\n",
       "<table border=\"1\" class=\"dataframe\">\n",
       "  <thead>\n",
       "    <tr style=\"text-align: right;\">\n",
       "      <th></th>\n",
       "      <th>Unnamed: 0</th>\n",
       "      <th>id</th>\n",
       "      <th>teacher_id</th>\n",
       "      <th>school_state</th>\n",
       "      <th>Date</th>\n",
       "      <th>project_grade_category</th>\n",
       "      <th>project_title</th>\n",
       "      <th>project_essay_1</th>\n",
       "      <th>project_essay_2</th>\n",
       "      <th>project_essay_3</th>\n",
       "      <th>project_essay_4</th>\n",
       "      <th>project_resource_summary</th>\n",
       "      <th>teacher_number_of_previously_posted_projects</th>\n",
       "      <th>project_is_approved</th>\n",
       "      <th>clean_categories</th>\n",
       "      <th>clean_subcategories</th>\n",
       "      <th>teacher_prefix</th>\n",
       "      <th>essay</th>\n",
       "      <th>price</th>\n",
       "      <th>quantity</th>\n",
       "    </tr>\n",
       "  </thead>\n",
       "  <tbody>\n",
       "    <tr>\n",
       "      <th>0</th>\n",
       "      <td>100660</td>\n",
       "      <td>p234804</td>\n",
       "      <td>cbc0e38f522143b86d372f8b43d4cff3</td>\n",
       "      <td>GA</td>\n",
       "      <td>2016-04-27 00:53:00</td>\n",
       "      <td>Grades_PreK_2</td>\n",
       "      <td>Flexible Seating for Flexible Learning</td>\n",
       "      <td>I recently read an article about giving studen...</td>\n",
       "      <td>I teach at a low-income (Title 1) school. Ever...</td>\n",
       "      <td>We need a classroom rug that we can use as a c...</td>\n",
       "      <td>Benjamin Franklin once said, \\\"Tell me and I f...</td>\n",
       "      <td>My students need flexible seating in the class...</td>\n",
       "      <td>2</td>\n",
       "      <td>1</td>\n",
       "      <td>AppliedLearning</td>\n",
       "      <td>EarlyDevelopment</td>\n",
       "      <td>EarlyDevelopment</td>\n",
       "      <td>I recently read an article about giving studen...</td>\n",
       "      <td>NaN</td>\n",
       "      <td>NaN</td>\n",
       "    </tr>\n",
       "  </tbody>\n",
       "</table>\n",
       "</div>"
      ],
      "text/plain": [
       "   Unnamed: 0       id                        teacher_id school_state  \\\n",
       "0      100660  p234804  cbc0e38f522143b86d372f8b43d4cff3           GA   \n",
       "\n",
       "                 Date project_grade_category  \\\n",
       "0 2016-04-27 00:53:00          Grades_PreK_2   \n",
       "\n",
       "                            project_title  \\\n",
       "0  Flexible Seating for Flexible Learning   \n",
       "\n",
       "                                     project_essay_1  \\\n",
       "0  I recently read an article about giving studen...   \n",
       "\n",
       "                                     project_essay_2  \\\n",
       "0  I teach at a low-income (Title 1) school. Ever...   \n",
       "\n",
       "                                     project_essay_3  \\\n",
       "0  We need a classroom rug that we can use as a c...   \n",
       "\n",
       "                                     project_essay_4  \\\n",
       "0  Benjamin Franklin once said, \\\"Tell me and I f...   \n",
       "\n",
       "                            project_resource_summary  \\\n",
       "0  My students need flexible seating in the class...   \n",
       "\n",
       "   teacher_number_of_previously_posted_projects  project_is_approved  \\\n",
       "0                                             2                    1   \n",
       "\n",
       "  clean_categories clean_subcategories    teacher_prefix  \\\n",
       "0  AppliedLearning    EarlyDevelopment  EarlyDevelopment   \n",
       "\n",
       "                                               essay  price  quantity  \n",
       "0  I recently read an article about giving studen...    NaN       NaN  "
      ]
     },
     "execution_count": 17,
     "metadata": {},
     "output_type": "execute_result"
    }
   ],
   "source": [
    "price_data = resource_data.groupby('id').agg({'price':'sum', 'quantity':'sum'}).reset_index()\n",
    "project_data = pd.merge(project_data, price_data, on='id', how='left')\n",
    "print (price_data[1:3])\n",
    "project_data.head(1)"
   ]
  },
  {
   "cell_type": "markdown",
   "metadata": {},
   "source": [
    "### 1.4.3.1 Merge Project Title Count with project_data"
   ]
  },
  {
   "cell_type": "code",
   "execution_count": 18,
   "metadata": {},
   "outputs": [
    {
     "data": {
      "text/html": [
       "<div>\n",
       "<style scoped>\n",
       "    .dataframe tbody tr th:only-of-type {\n",
       "        vertical-align: middle;\n",
       "    }\n",
       "\n",
       "    .dataframe tbody tr th {\n",
       "        vertical-align: top;\n",
       "    }\n",
       "\n",
       "    .dataframe thead th {\n",
       "        text-align: right;\n",
       "    }\n",
       "</style>\n",
       "<table border=\"1\" class=\"dataframe\">\n",
       "  <thead>\n",
       "    <tr style=\"text-align: right;\">\n",
       "      <th></th>\n",
       "      <th>Unnamed: 0</th>\n",
       "      <th>id</th>\n",
       "      <th>teacher_id</th>\n",
       "      <th>school_state</th>\n",
       "      <th>Date</th>\n",
       "      <th>project_grade_category</th>\n",
       "      <th>project_title</th>\n",
       "      <th>project_essay_1</th>\n",
       "      <th>project_essay_2</th>\n",
       "      <th>project_essay_3</th>\n",
       "      <th>...</th>\n",
       "      <th>project_resource_summary</th>\n",
       "      <th>teacher_number_of_previously_posted_projects</th>\n",
       "      <th>project_is_approved</th>\n",
       "      <th>clean_categories</th>\n",
       "      <th>clean_subcategories</th>\n",
       "      <th>teacher_prefix</th>\n",
       "      <th>essay</th>\n",
       "      <th>price</th>\n",
       "      <th>quantity</th>\n",
       "      <th>project_title_count</th>\n",
       "    </tr>\n",
       "  </thead>\n",
       "  <tbody>\n",
       "    <tr>\n",
       "      <th>0</th>\n",
       "      <td>100660</td>\n",
       "      <td>p234804</td>\n",
       "      <td>cbc0e38f522143b86d372f8b43d4cff3</td>\n",
       "      <td>GA</td>\n",
       "      <td>2016-04-27 00:53:00</td>\n",
       "      <td>Grades_PreK_2</td>\n",
       "      <td>Flexible Seating for Flexible Learning</td>\n",
       "      <td>I recently read an article about giving studen...</td>\n",
       "      <td>I teach at a low-income (Title 1) school. Ever...</td>\n",
       "      <td>We need a classroom rug that we can use as a c...</td>\n",
       "      <td>...</td>\n",
       "      <td>My students need flexible seating in the class...</td>\n",
       "      <td>2</td>\n",
       "      <td>1</td>\n",
       "      <td>AppliedLearning</td>\n",
       "      <td>EarlyDevelopment</td>\n",
       "      <td>EarlyDevelopment</td>\n",
       "      <td>I recently read an article about giving studen...</td>\n",
       "      <td>NaN</td>\n",
       "      <td>NaN</td>\n",
       "      <td>5</td>\n",
       "    </tr>\n",
       "  </tbody>\n",
       "</table>\n",
       "<p>1 rows × 21 columns</p>\n",
       "</div>"
      ],
      "text/plain": [
       "   Unnamed: 0       id                        teacher_id school_state  \\\n",
       "0      100660  p234804  cbc0e38f522143b86d372f8b43d4cff3           GA   \n",
       "\n",
       "                 Date project_grade_category  \\\n",
       "0 2016-04-27 00:53:00          Grades_PreK_2   \n",
       "\n",
       "                            project_title  \\\n",
       "0  Flexible Seating for Flexible Learning   \n",
       "\n",
       "                                     project_essay_1  \\\n",
       "0  I recently read an article about giving studen...   \n",
       "\n",
       "                                     project_essay_2  \\\n",
       "0  I teach at a low-income (Title 1) school. Ever...   \n",
       "\n",
       "                                     project_essay_3  ...  \\\n",
       "0  We need a classroom rug that we can use as a c...  ...   \n",
       "\n",
       "                            project_resource_summary  \\\n",
       "0  My students need flexible seating in the class...   \n",
       "\n",
       "  teacher_number_of_previously_posted_projects  project_is_approved  \\\n",
       "0                                            2                    1   \n",
       "\n",
       "   clean_categories clean_subcategories    teacher_prefix  \\\n",
       "0   AppliedLearning    EarlyDevelopment  EarlyDevelopment   \n",
       "\n",
       "                                               essay price  quantity  \\\n",
       "0  I recently read an article about giving studen...   NaN       NaN   \n",
       "\n",
       "   project_title_count  \n",
       "0                    5  \n",
       "\n",
       "[1 rows x 21 columns]"
      ]
     },
     "execution_count": 18,
     "metadata": {},
     "output_type": "execute_result"
    }
   ],
   "source": [
    "# Add count (total number of words) in Project Title in each row.\n",
    "\n",
    "project_title_count = project_data['project_title'].str.split().str.len()\n",
    "project_data['project_title_count'] = project_title_count\n",
    "project_data.head(1)"
   ]
  },
  {
   "cell_type": "markdown",
   "metadata": {},
   "source": [
    "### 1.4.3.2 Essay count of words for each row and  merge with project_data"
   ]
  },
  {
   "cell_type": "code",
   "execution_count": 19,
   "metadata": {},
   "outputs": [
    {
     "data": {
      "text/html": [
       "<div>\n",
       "<style scoped>\n",
       "    .dataframe tbody tr th:only-of-type {\n",
       "        vertical-align: middle;\n",
       "    }\n",
       "\n",
       "    .dataframe tbody tr th {\n",
       "        vertical-align: top;\n",
       "    }\n",
       "\n",
       "    .dataframe thead th {\n",
       "        text-align: right;\n",
       "    }\n",
       "</style>\n",
       "<table border=\"1\" class=\"dataframe\">\n",
       "  <thead>\n",
       "    <tr style=\"text-align: right;\">\n",
       "      <th></th>\n",
       "      <th>Unnamed: 0</th>\n",
       "      <th>id</th>\n",
       "      <th>teacher_id</th>\n",
       "      <th>school_state</th>\n",
       "      <th>Date</th>\n",
       "      <th>project_grade_category</th>\n",
       "      <th>project_title</th>\n",
       "      <th>project_essay_1</th>\n",
       "      <th>project_essay_2</th>\n",
       "      <th>project_essay_3</th>\n",
       "      <th>...</th>\n",
       "      <th>teacher_number_of_previously_posted_projects</th>\n",
       "      <th>project_is_approved</th>\n",
       "      <th>clean_categories</th>\n",
       "      <th>clean_subcategories</th>\n",
       "      <th>teacher_prefix</th>\n",
       "      <th>essay</th>\n",
       "      <th>price</th>\n",
       "      <th>quantity</th>\n",
       "      <th>project_title_count</th>\n",
       "      <th>essay_count</th>\n",
       "    </tr>\n",
       "  </thead>\n",
       "  <tbody>\n",
       "    <tr>\n",
       "      <th>0</th>\n",
       "      <td>100660</td>\n",
       "      <td>p234804</td>\n",
       "      <td>cbc0e38f522143b86d372f8b43d4cff3</td>\n",
       "      <td>GA</td>\n",
       "      <td>2016-04-27 00:53:00</td>\n",
       "      <td>Grades_PreK_2</td>\n",
       "      <td>Flexible Seating for Flexible Learning</td>\n",
       "      <td>I recently read an article about giving studen...</td>\n",
       "      <td>I teach at a low-income (Title 1) school. Ever...</td>\n",
       "      <td>We need a classroom rug that we can use as a c...</td>\n",
       "      <td>...</td>\n",
       "      <td>2</td>\n",
       "      <td>1</td>\n",
       "      <td>AppliedLearning</td>\n",
       "      <td>EarlyDevelopment</td>\n",
       "      <td>EarlyDevelopment</td>\n",
       "      <td>I recently read an article about giving studen...</td>\n",
       "      <td>NaN</td>\n",
       "      <td>NaN</td>\n",
       "      <td>5</td>\n",
       "      <td>225</td>\n",
       "    </tr>\n",
       "  </tbody>\n",
       "</table>\n",
       "<p>1 rows × 22 columns</p>\n",
       "</div>"
      ],
      "text/plain": [
       "   Unnamed: 0       id                        teacher_id school_state  \\\n",
       "0      100660  p234804  cbc0e38f522143b86d372f8b43d4cff3           GA   \n",
       "\n",
       "                 Date project_grade_category  \\\n",
       "0 2016-04-27 00:53:00          Grades_PreK_2   \n",
       "\n",
       "                            project_title  \\\n",
       "0  Flexible Seating for Flexible Learning   \n",
       "\n",
       "                                     project_essay_1  \\\n",
       "0  I recently read an article about giving studen...   \n",
       "\n",
       "                                     project_essay_2  \\\n",
       "0  I teach at a low-income (Title 1) school. Ever...   \n",
       "\n",
       "                                     project_essay_3  ...  \\\n",
       "0  We need a classroom rug that we can use as a c...  ...   \n",
       "\n",
       "  teacher_number_of_previously_posted_projects project_is_approved  \\\n",
       "0                                            2                   1   \n",
       "\n",
       "   clean_categories  clean_subcategories    teacher_prefix  \\\n",
       "0   AppliedLearning     EarlyDevelopment  EarlyDevelopment   \n",
       "\n",
       "                                               essay price quantity  \\\n",
       "0  I recently read an article about giving studen...   NaN      NaN   \n",
       "\n",
       "   project_title_count  essay_count  \n",
       "0                    5          225  \n",
       "\n",
       "[1 rows x 22 columns]"
      ]
     },
     "execution_count": 19,
     "metadata": {},
     "output_type": "execute_result"
    }
   ],
   "source": [
    "# Add count (total number of words) in essay in each row.\n",
    "\n",
    "essay_count = project_data['essay'].str.split().str.len()\n",
    "project_data['essay_count'] = essay_count\n",
    "project_data.head(1)"
   ]
  },
  {
   "cell_type": "code",
   "execution_count": 20,
   "metadata": {},
   "outputs": [
    {
     "data": {
      "text/html": [
       "<div>\n",
       "<style scoped>\n",
       "    .dataframe tbody tr th:only-of-type {\n",
       "        vertical-align: middle;\n",
       "    }\n",
       "\n",
       "    .dataframe tbody tr th {\n",
       "        vertical-align: top;\n",
       "    }\n",
       "\n",
       "    .dataframe thead th {\n",
       "        text-align: right;\n",
       "    }\n",
       "</style>\n",
       "<table border=\"1\" class=\"dataframe\">\n",
       "  <thead>\n",
       "    <tr style=\"text-align: right;\">\n",
       "      <th></th>\n",
       "      <th>Unnamed: 0</th>\n",
       "      <th>id</th>\n",
       "      <th>teacher_id</th>\n",
       "      <th>school_state</th>\n",
       "      <th>Date</th>\n",
       "      <th>project_grade_category</th>\n",
       "      <th>project_title</th>\n",
       "      <th>project_essay_1</th>\n",
       "      <th>project_essay_2</th>\n",
       "      <th>project_essay_3</th>\n",
       "      <th>...</th>\n",
       "      <th>teacher_number_of_previously_posted_projects</th>\n",
       "      <th>project_is_approved</th>\n",
       "      <th>clean_categories</th>\n",
       "      <th>clean_subcategories</th>\n",
       "      <th>teacher_prefix</th>\n",
       "      <th>essay</th>\n",
       "      <th>price</th>\n",
       "      <th>quantity</th>\n",
       "      <th>project_title_count</th>\n",
       "      <th>essay_count</th>\n",
       "    </tr>\n",
       "  </thead>\n",
       "  <tbody>\n",
       "    <tr>\n",
       "      <th>0</th>\n",
       "      <td>100660</td>\n",
       "      <td>p234804</td>\n",
       "      <td>cbc0e38f522143b86d372f8b43d4cff3</td>\n",
       "      <td>GA</td>\n",
       "      <td>2016-04-27 00:53:00</td>\n",
       "      <td>Grades_PreK_2</td>\n",
       "      <td>Flexible Seating for Flexible Learning</td>\n",
       "      <td>I recently read an article about giving studen...</td>\n",
       "      <td>I teach at a low-income (Title 1) school. Ever...</td>\n",
       "      <td>We need a classroom rug that we can use as a c...</td>\n",
       "      <td>...</td>\n",
       "      <td>2</td>\n",
       "      <td>1</td>\n",
       "      <td>AppliedLearning</td>\n",
       "      <td>EarlyDevelopment</td>\n",
       "      <td>EarlyDevelopment</td>\n",
       "      <td>I recently read an article about giving studen...</td>\n",
       "      <td>103.01</td>\n",
       "      <td>4.0</td>\n",
       "      <td>5</td>\n",
       "      <td>225</td>\n",
       "    </tr>\n",
       "  </tbody>\n",
       "</table>\n",
       "<p>1 rows × 22 columns</p>\n",
       "</div>"
      ],
      "text/plain": [
       "   Unnamed: 0       id                        teacher_id school_state  \\\n",
       "0      100660  p234804  cbc0e38f522143b86d372f8b43d4cff3           GA   \n",
       "\n",
       "                 Date project_grade_category  \\\n",
       "0 2016-04-27 00:53:00          Grades_PreK_2   \n",
       "\n",
       "                            project_title  \\\n",
       "0  Flexible Seating for Flexible Learning   \n",
       "\n",
       "                                     project_essay_1  \\\n",
       "0  I recently read an article about giving studen...   \n",
       "\n",
       "                                     project_essay_2  \\\n",
       "0  I teach at a low-income (Title 1) school. Ever...   \n",
       "\n",
       "                                     project_essay_3  ...  \\\n",
       "0  We need a classroom rug that we can use as a c...  ...   \n",
       "\n",
       "  teacher_number_of_previously_posted_projects project_is_approved  \\\n",
       "0                                            2                   1   \n",
       "\n",
       "   clean_categories  clean_subcategories    teacher_prefix  \\\n",
       "0   AppliedLearning     EarlyDevelopment  EarlyDevelopment   \n",
       "\n",
       "                                               essay   price quantity  \\\n",
       "0  I recently read an article about giving studen...  103.01      4.0   \n",
       "\n",
       "   project_title_count  essay_count  \n",
       "0                    5          225  \n",
       "\n",
       "[1 rows x 22 columns]"
      ]
     },
     "execution_count": 20,
     "metadata": {},
     "output_type": "execute_result"
    }
   ],
   "source": [
    "#Convert NaN value to mean of the column\n",
    "project_data.fillna(project_data.mean(), inplace=True)\n",
    "project_data.head(1)"
   ]
  },
  {
   "cell_type": "code",
   "execution_count": 21,
   "metadata": {},
   "outputs": [],
   "source": [
    "y = project_data['project_is_approved'].values\n",
    "X = project_data.drop(['project_is_approved'], axis=1)\n",
    "\n",
    "# train test split\n",
    "from sklearn.model_selection import train_test_split\n",
    "X_train, X_test, y_train, y_test = train_test_split(X, y, test_size=0.33, stratify=y)\n"
   ]
  },
  {
   "cell_type": "markdown",
   "metadata": {},
   "source": [
    "## Splitting data into Train and cross validation(or test): Stratified Sampling"
   ]
  },
  {
   "cell_type": "code",
   "execution_count": 22,
   "metadata": {},
   "outputs": [],
   "source": [
    "y = project_data['project_is_approved'].values\n",
    "X = project_data.drop(['project_is_approved'], axis=1)\n",
    "\n",
    "# train test split\n",
    "from sklearn.model_selection import train_test_split\n",
    "X_train, X_test, y_train, y_test = train_test_split(X, y, test_size=0.33, stratify=y)\n"
   ]
  },
  {
   "cell_type": "code",
   "execution_count": 23,
   "metadata": {},
   "outputs": [],
   "source": [
    "catogories_essay = list(project_data['essay'].values)\n",
    "# remove special characters from list of strings python: https://stackoverflow.com/a/47301924/4084039\n",
    "\n",
    "# https://www.geeksforgeeks.org/removing-stop-words-nltk-python/\n",
    "# https://stackoverflow.com/questions/23669024/how-to-strip-a-specific-word-from-a-string\n",
    "# https://stackoverflow.com/questions/8270092/remove-all-whitespace-in-a-string-in-python\n",
    "cat_essay_list = []\n",
    "for i in catogories_essay:\n",
    "    temp = \"\"\n",
    "    # consider we have text like this \"Math & Science, Warmth, Care & Hunger\"\n",
    "    for j in i.split(','): # it will split it in three parts [\"Math & Science\", \"Warmth\", \"Care & Hunger\"]\n",
    "        if 'The' in j.split(): # this will split each of the catogory based on space \"Math & Science\"=> \"Math\",\"&\", \"Science\"\n",
    "            j=j.replace('The','') # if we have the words \"The\" we are going to replace it with ''(i.e removing 'The')\n",
    "        j = j.replace(' ','') # we are placeing all the ' '(space) with ''(empty) ex:\"Math & Science\"=>\"Math&Science\"\n",
    "        temp+=j.strip()+\" \" #\" abc \".strip() will return \"abc\", remove the trailing spaces\n",
    "        temp = temp.replace('&','_') # we are replacing the & value into \n",
    "    cat_essay_list.append(temp.strip())\n",
    "    \n",
    "project_data['clean_essay'] = cat_essay_list\n",
    "\n",
    "from collections import Counter\n",
    "my_counter = Counter()\n",
    "for word in project_data['clean_essay'].values:\n",
    "    my_counter.update(word.split())\n",
    "\n",
    "cat_essay_dict = dict(my_counter)\n",
    "sorted_cat_essay_dict = dict(sorted(cat_essay_dict.items(), key=lambda kv: kv[1]))\n",
    "\n"
   ]
  },
  {
   "cell_type": "code",
   "execution_count": 24,
   "metadata": {},
   "outputs": [],
   "source": [
    "catogories_title = list(project_data['project_title'].values)\n",
    "# remove special characters from list of strings python: https://stackoverflow.com/a/47301924/4084039\n",
    "# https://www.geeksforgeeks.org/removing-stop-words-nltk-python/\n",
    "# https://stackoverflow.com/questions/23669024/how-to-strip-a-specific-word-from-a-string\n",
    "# https://stackoverflow.com/questions/8270092/remove-all-whitespace-in-a-string-in-python\n",
    "project_title_list = []\n",
    "for i in catogories_title:\n",
    "    temp = \"\"\n",
    "    # consider we have text like this \"Math & Science, Warmth, Care & Hunger\"\n",
    "    for j in i.split(','): # it will split it in three parts [\"Math & Science\", \"Warmth\", \"Care & Hunger\"]\n",
    "        if 'The' in j.split(): # this will split each of the catogory based on space \"Math & Science\"=> \"Math\",\"&\", \"Science\"\n",
    "            j=j.replace('The','') # if we have the words \"The\" we are going to replace it with ''(i.e removing 'The')\n",
    "        j = j.replace(' ','') # we are placeing all the ' '(space) with ''(empty) ex:\"Math & Science\"=>\"Math&Science\"\n",
    "        temp+=j.strip()+\" \" #\" abc \".strip() will return \"abc\", remove the trailing spaces\n",
    "        temp = temp.replace('&','_') # we are replacing the & value into \n",
    "    project_title_list.append(temp.strip())\n",
    "\n",
    "#project_data.drop('project_title', axis=1, inplace=True)\n",
    "#project_data['project_title'] = project_title_list\n",
    "\n",
    "from collections import Counter\n",
    "my_counter = Counter()\n",
    "for word in project_data['project_title'].values:\n",
    "    my_counter.update(word.split())\n",
    "\n",
    "project_title_dict = dict(my_counter)\n",
    "sorted_project_title_dict = dict(sorted(project_title_dict.items(), key=lambda kv: kv[1]))"
   ]
  },
  {
   "cell_type": "code",
   "execution_count": 25,
   "metadata": {},
   "outputs": [
    {
     "name": "stderr",
     "output_type": "stream",
     "text": [
      "100%|██████████| 1340/1340 [00:01<00:00, 782.65it/s]\n"
     ]
    }
   ],
   "source": [
    "# Combining all the above stundents \n",
    "from tqdm import tqdm\n",
    "X_train_preprocessed_essays = []\n",
    "# tqdm is for printing the status bar\n",
    "for sentance in tqdm(X_train['essay'].values):\n",
    "    sent = decontracted(sentance)\n",
    "    sent = sent.replace('\\\\r', ' ')\n",
    "    sent = sent.replace('\\\\\"', ' ')\n",
    "    sent = sent.replace('\\\\n', ' ')\n",
    "    sent = re.sub('[^A-Za-z0-9]+', ' ', sent)\n",
    "    # https://gist.github.com/sebleier/554280\n",
    "    sent = ' '.join(e for e in sent.split() if e not in stopwords)\n",
    "    X_train_preprocessed_essays.append(sent.lower().strip())\n",
    "   # print (X_train_preprocessed_essays)\n",
    "    "
   ]
  },
  {
   "cell_type": "code",
   "execution_count": 26,
   "metadata": {},
   "outputs": [
    {
     "name": "stderr",
     "output_type": "stream",
     "text": [
      "100%|██████████| 660/660 [00:00<00:00, 706.55it/s]\n"
     ]
    }
   ],
   "source": [
    "# Combining all the above stundents \n",
    "from tqdm import tqdm\n",
    "X_test_preprocessed_essays = []\n",
    "# tqdm is for printing the status bar\n",
    "for sentance in tqdm(X_test['essay'].values):\n",
    "    sent = decontracted(sentance)\n",
    "    sent = sent.replace('\\\\r', ' ')\n",
    "    sent = sent.replace('\\\\\"', ' ')\n",
    "    sent = sent.replace('\\\\n', ' ')\n",
    "    sent = re.sub('[^A-Za-z0-9]+', ' ', sent)\n",
    "    # https://gist.github.com/sebleier/554280\n",
    "    sent = ' '.join(e for e in sent.split() if e not in stopwords)\n",
    "    X_test_preprocessed_essays.append(sent.lower().strip())\n",
    "   # print (X_test_preprocessed_essays)\n",
    "    "
   ]
  },
  {
   "cell_type": "markdown",
   "metadata": {},
   "source": [
    "### TruncatedSVD"
   ]
  },
  {
   "cell_type": "markdown",
   "metadata": {},
   "source": [
    "### Split TrancatedSVd Data:\n",
    "    "
   ]
  },
  {
   "cell_type": "markdown",
   "metadata": {},
   "source": [
    "### Transcatred SVD Data Using Elbow Method for Test data. Apply TruncatedSVD on TfidfVectorizer of essay text, choose the number of components (`n_components`) using elbow method : numerical data"
   ]
  },
  {
   "cell_type": "code",
   "execution_count": 27,
   "metadata": {},
   "outputs": [
    {
     "name": "stdout",
     "output_type": "stream",
     "text": [
      "Number of components = 1 and explained variance = 0.00222067857821037\n",
      "Number of components = 25 and explained variance = 0.12620421943269228\n",
      "Number of components = 100 and explained variance = 0.3374538099578489\n",
      "Number of components = 150 and explained variance = 0.4442772821557991\n",
      "Number of components = 175 and explained variance = 0.49158244512958604\n",
      "Number of components = 200 and explained variance = 0.5354528232039001\n",
      "Number of components = 400 and explained variance = 0.8041296755305616\n",
      "Number of components = 500 and explained variance = 0.8968725454773201\n",
      "Number of components = 600 and explained variance = 0.9681824297374617\n",
      "Number of components = 700 and explained variance = 1.0000000000000004\n",
      "Number of components = 1000 and explained variance = 0.9999999999999996\n",
      "Number of components = 1500 and explained variance = 1.0\n"
     ]
    },
    {
     "data": {
      "image/png": "[encoded data removed]",
      "text/plain": [
       "<Figure size 432x288 with 1 Axes>"
      ]
     },
     "metadata": {
      "needs_background": "light"
     },
     "output_type": "display_data"
    }
   ],
   "source": [
    "#https://medium.com/swlh/truncated-singular-value-decomposition-svd-using-amazon-food-reviews-891d97af5d8d\n",
    "from sklearn.decomposition import TruncatedSVD\n",
    "#n_comp = 25\n",
    "#tfidf_vec = TfidfVectorizer(analyzer=\"word\", max_features=5000, ngram_range=(1,2))   \n",
    "#svd = TruncatedSVD(n_components=n_comp, algorithm='arpack')\n",
    "#Xtest_tfidf_df = tfidf_vec.fit_transform(X_test_preprocessed_essays)\n",
    "#Xtest_svd_tfidf_essay = svd.fit_transform(Xtest_tfidf_df)\n",
    "#print (Xtest_svd_tfidf_essay)\n",
    "#Xtrain_tfidf_df = tfidf_vec.fit_transform(X_train_preprocessed_essays)\n",
    "#Xtrain_svd_tfidf_essay = svd.fit_transform(Xtrain_tfidf_df)\n",
    "#print (Xtrain_svd_tfidf_essay)\n",
    "\n",
    "#Apply TruncatedSVD on TfidfVectorizer of essay text, choose the number of components (`n_components`) using elbow method : numerical data\n",
    "\n",
    "# Program to find the optimal number of components for Truncated SVD\n",
    "n_comp = [1,25,100,150,175,200,400,500,600,700,1000,1500] # different values of components\n",
    "explained = [] # explained variance ratio for each component of Truncated SVD\n",
    "tfidf_vec = TfidfVectorizer(analyzer=\"word\", max_features=5000, ngram_range=(1,2))\n",
    "for x in n_comp:\n",
    "    svd = TruncatedSVD(n_components=x)\n",
    "    Xtest_tfidf_df = tfidf_vec.fit_transform(X_test_preprocessed_essays)\n",
    "    Xtest_svd_tfidf_essay = svd.fit_transform(Xtest_tfidf_df) \n",
    "    explained.append(svd.explained_variance_ratio_.sum())\n",
    "    print(\"Number of components = %r and explained variance = %r\"%(x,svd.explained_variance_ratio_.sum()))\n",
    "plt.plot(n_comp, explained)\n",
    "plt.xlabel('Number of components')\n",
    "plt.ylabel(\"Explained Variance\")\n",
    "plt.title(\"Plot of Number X_test_preprocessed_essays=of components v/s explained variance\")\n",
    "plt.show()\n"
   ]
  },
  {
   "cell_type": "markdown",
   "metadata": {},
   "source": [
    "### Apply N_comp found fron elbow method as logic givren abve"
   ]
  },
  {
   "cell_type": "code",
   "execution_count": 28,
   "metadata": {},
   "outputs": [
    {
     "name": "stdout",
     "output_type": "stream",
     "text": [
      "[[ 2.42752379e-01  1.19132202e-01 -2.58229996e-03 ... -3.18386941e-02\n",
      "   5.50412460e-03  5.60169896e-03]\n",
      " [ 2.57983841e-01 -8.61666665e-03 -7.64187289e-02 ... -5.64972577e-03\n",
      "   1.64411784e-02 -2.55792947e-02]\n",
      " [ 2.52890798e-01 -1.33620289e-02 -7.05292999e-02 ... -7.63103177e-03\n",
      "   2.11918055e-02  1.33072337e-02]\n",
      " ...\n",
      " [ 2.89580343e-01  2.65037820e-01  1.33761475e-01 ... -1.69631261e-02\n",
      "  -3.33925304e-02  2.12872334e-02]\n",
      " [ 3.03108011e-01  2.63697105e-04 -3.68265016e-02 ...  3.63690102e-02\n",
      "  -3.34166101e-03 -1.75747483e-02]\n",
      " [ 2.37271467e-01 -1.74588848e-01  1.06455036e-01 ... -2.82094233e-02\n",
      "  -3.66806833e-03  6.45423541e-03]]\n"
     ]
    }
   ],
   "source": [
    "# Since we found  n_comp  using elbow method using above logic, we will apply here to get \n",
    "#best value of Xtest_svd_tfidf_essay\n",
    "from sklearn.decomposition import TruncatedSVD\n",
    "tfidf_vec = TfidfVectorizer(analyzer=\"word\", max_features=5000, ngram_range=(1,2))\n",
    "n_comp = 600\n",
    "svd = TruncatedSVD(n_components=n_comp)\n",
    "Xtest_tfidf_df = tfidf_vec.fit_transform(X_test_preprocessed_essays)\n",
    "Xtest_svd_tfidf_essay = svd.fit_transform(Xtest_tfidf_df)\n",
    "print (Xtest_svd_tfidf_essay)"
   ]
  },
  {
   "cell_type": "markdown",
   "metadata": {},
   "source": [
    "### Transcatred SVD Data Using Elbow Method for Train Data. Apply TruncatedSVD on TfidfVectorizer of essay text, choose the number of components (`n_components`) using elbow method : numerical data"
   ]
  },
  {
   "cell_type": "code",
   "execution_count": 29,
   "metadata": {},
   "outputs": [
    {
     "name": "stdout",
     "output_type": "stream",
     "text": [
      "Number of components = 50 and explained variance = 0.16757910305156223\n",
      "Number of components = 60 and explained variance = 0.18862271819094828\n",
      "Number of components = 70 and explained variance = 0.2089020491751176\n",
      "Number of components = 100 and explained variance = 0.2634649715775962\n",
      "Number of components = 150 and explained variance = 0.34188509364341263\n",
      "Number of components = 175 and explained variance = 0.37689462197679197\n",
      "Number of components = 200 and explained variance = 0.4095443188970064\n",
      "Number of components = 300 and explained variance = 0.5226608440480836\n",
      "Number of components = 400 and explained variance = 0.6151420016498881\n",
      "Number of components = 600 and explained variance = 0.7570104943118932\n",
      "Number of components = 700 and explained variance = 0.8119106808874628\n",
      "Number of components = 1000 and explained variance = 0.9300261610484699\n",
      "MaxExp== 0.9300261610484699\n"
     ]
    },
    {
     "data": {
      "image/png": "[encoded data removed]",
      "text/plain": [
       "<Figure size 432x288 with 1 Axes>"
      ]
     },
     "metadata": {},
     "output_type": "display_data"
    }
   ],
   "source": [
    "#https://medium.com/swlh/truncated-singular-value-decomposition-svd-using-amazon-food-reviews-891d97af5d8d\n",
    "from sklearn.decomposition import TruncatedSVD\n",
    "#Apply TruncatedSVD on TfidfVectorizer of essay text, choose the number of components (`n_components`) using elbow method : numerical data\n",
    "\n",
    "# Program to find the optimal number of components for Truncated SVD\n",
    "n_comp = [50,60,70,100,150,175,200,300,400,600,700,1000] # different values of components\n",
    "explained = [] # explained variance ratio for each component of Truncated SVD\n",
    "tfidf_vec = TfidfVectorizer(analyzer=\"word\", max_features=5000, ngram_range=(1,2))\n",
    "MaxExp = -1 # Max Explained varience \n",
    "Max_svd = 0 # initially 0\n",
    "\n",
    "for x in n_comp:\n",
    "    svd = TruncatedSVD(n_components=x)\n",
    "    Xtrain_tfidf_df = tfidf_vec.fit_transform(X_train_preprocessed_essays)\n",
    "    Xtrain_svd_tfidf_essay = svd.fit_transform(Xtrain_tfidf_df) \n",
    "    explained.append(svd.explained_variance_ratio_.sum())\n",
    "    exp_sum = svd.explained_variance_ratio_.sum()\n",
    "    if exp_sum >  MaxExp :\n",
    "            Max_svd = svd\n",
    "            MaxExp  = exp_sum\n",
    "            \n",
    "    print(\"Number of components = %r and explained variance = %r\"%(x,svd.explained_variance_ratio_.sum()))\n",
    "print(\"MaxExp==\" ,MaxExp )\n",
    "percentage_var_explained =  Max_svd .explained_variance_ / np.sum( Max_svd .explained_variance_)\n",
    "cum_var_explained = np.cumsum(percentage_var_explained)\n",
    "    \n",
    "# Plotting for  MaxExp value in  list_component \n",
    "\n",
    "fig4 = plt.figure( facecolor='y', edgecolor='k')\n",
    "plt.clf()\n",
    "plt.plot( cum_var_explained , linewidth=2)\n",
    "plt.axis('tight')\n",
    "plt.grid()\n",
    "plt.xlabel('n_components')\n",
    "plt.ylabel('Cumulative_explained_variance')\n",
    "plt.title(\"Cumulative_explained_variance VS n_components\")\n",
    "plt.show()\n"
   ]
  },
  {
   "cell_type": "markdown",
   "metadata": {},
   "source": [
    "### Apply N_comp found fron elbow method as logic givren abve"
   ]
  },
  {
   "cell_type": "code",
   "execution_count": 30,
   "metadata": {},
   "outputs": [],
   "source": [
    "# Since we found  n_comp  using elbow method using above logic, we will apply here to get \n",
    "#best value of Xrain_svd_tfidf_essay\n",
    "from sklearn.decomposition import TruncatedSVD\n",
    "tfidf_vec = TfidfVectorizer(analyzer=\"word\", max_features=5000, ngram_range=(1,2))\n",
    "n_comp = 600\n",
    "svd = TruncatedSVD(n_components=n_comp)\n",
    "#Xtest_tfidf_df = tfidf_vec.fit_transform(X_test_preprocessed_essays)\n",
    "#Xtest_svd_tfidf_essay = svd.fit_transform(Xtest_tfidf_df)\n",
    "\n",
    "Xtrain_tfidf_df = tfidf_vec.fit_transform(X_train_preprocessed_essays)\n",
    "Xtrain_svd_tfidf_essay = svd.fit_transform(Xtrain_tfidf_df)\n",
    "#print (Xtrain_svd_tfidf_essay)"
   ]
  },
  {
   "cell_type": "markdown",
   "metadata": {},
   "source": [
    "## Step 3: Standardize (normalize) the data scale to prep for DecisionTree.\n",
    "Because the distance between pairs of points plays a critical part on the classification, it is necessary to normalize the data This will generate an array of values. "
   ]
  },
  {
   "cell_type": "markdown",
   "metadata": {},
   "source": [
    "### 1.4.1 Vectorizing Categorical data"
   ]
  },
  {
   "cell_type": "markdown",
   "metadata": {},
   "source": [
    "- https://www.appliedaicourse.com/course/applied-ai-course-online/lessons/handling-categorical-and-numerical-features/"
   ]
  },
  {
   "cell_type": "markdown",
   "metadata": {},
   "source": [
    "### Vectorization of clean_categories for X_train,X_test"
   ]
  },
  {
   "cell_type": "code",
   "execution_count": 31,
   "metadata": {},
   "outputs": [
    {
     "name": "stdout",
     "output_type": "stream",
     "text": [
      "['AppliedLearning', 'AppliedLearning Literacy_Language', 'AppliedLearning Music_Arts', 'AppliedLearning SpecialNeeds', 'Care_Hunger', 'Health_Sports', 'Health_Sports SpecialNeeds', 'History_Civics', 'History_Civics Literacy_Language', 'Literacy_Language', 'Literacy_Language History_Civics', 'Literacy_Language Math_Science', 'Literacy_Language Music_Arts', 'Literacy_Language SpecialNeeds', 'Math_Science', 'Math_Science AppliedLearning', 'Math_Science Literacy_Language', 'Math_Science Music_Arts', 'Math_Science SpecialNeeds', 'Music_Arts', 'SpecialNeeds', 'Warmth', 'Warmth Care_Hunger']\n",
      "Shape of matrix X_train_categories_one_hot  after one hot encodig  (1340, 23)\n",
      "Shape of matrix X_test_categories_one_hot after one hot encodig  (660, 23)\n"
     ]
    }
   ],
   "source": [
    "# we use count vectorizer to convert the values into one \n",
    "from sklearn.feature_extraction.text import CountVectorizer\n",
    "vectorizer = CountVectorizer(min_df=10,ngram_range=(1,4), max_features=5000,lowercase=False, binary=True)\n",
    "X_train_categories_one_hot = vectorizer.fit_transform(X_train['clean_categories'].values)\n",
    "X_test_categories_one_hot = vectorizer.transform(X_test['clean_categories'].values)\n",
    "print(vectorizer.get_feature_names())\n",
    "print(\"Shape of matrix X_train_categories_one_hot  after one hot encodig \",X_train_categories_one_hot.shape)\n",
    "print(\"Shape of matrix X_test_categories_one_hot after one hot encodig \",X_test_categories_one_hot.shape)\n"
   ]
  },
  {
   "cell_type": "code",
   "execution_count": 32,
   "metadata": {},
   "outputs": [],
   "source": [
    "### Vectorization of project_grade_category for X_train,X_test"
   ]
  },
  {
   "cell_type": "code",
   "execution_count": 33,
   "metadata": {},
   "outputs": [
    {
     "name": "stdout",
     "output_type": "stream",
     "text": [
      "['Grades_3_5', 'Grades_6_8', 'Grades_9_12', 'Grades_PreK_2']\n",
      "Shape of matrix X_train_project_grade_category_one_hot  after one hot encodig  (1340, 4)\n",
      "Shape of matrix X_test_project_grade_category_one_hot after one hot encodig  (660, 4)\n"
     ]
    }
   ],
   "source": [
    "# we use count vectorizer to convert the values into one \n",
    "from sklearn.feature_extraction.text import CountVectorizer\n",
    "vectorizer = CountVectorizer(min_df=10,ngram_range=(1,4), max_features=5000, lowercase=False, binary=True)\n",
    "X_train_project_grade_category_one_hot = vectorizer.fit_transform(X_train['project_grade_category'].values)\n",
    "X_test_project_grade_category_one_hot = vectorizer.transform(X_test['project_grade_category'].values)\n",
    "print(vectorizer.get_feature_names())\n",
    "print(\"Shape of matrix X_train_project_grade_category_one_hot  after one hot encodig \",X_train_project_grade_category_one_hot.shape)\n",
    "print(\"Shape of matrix X_test_project_grade_category_one_hot after one hot encodig \",X_test_project_grade_category_one_hot.shape)\n"
   ]
  },
  {
   "cell_type": "code",
   "execution_count": 34,
   "metadata": {},
   "outputs": [
    {
     "name": "stdout",
     "output_type": "stream",
     "text": [
      "['AL', 'AR', 'AZ', 'CA', 'CO', 'CT', 'FL', 'GA', 'ID', 'IL', 'IN', 'KY', 'LA', 'MA', 'MD', 'MI', 'MO', 'MS', 'NC', 'NJ', 'NV', 'NY', 'OH', 'OK', 'OR', 'PA', 'SC', 'TN', 'TX', 'UT', 'VA', 'WA', 'WI']\n",
      "Shape of matrix X_train_school_state_one_hot  after one hot encodig  (1340, 33)\n",
      "Shape of matrix X_test_school_state_one_hot after one hot encodig  (660, 33)\n"
     ]
    }
   ],
   "source": [
    "# we use count vectorizer to convert the values into one \n",
    "from sklearn.feature_extraction.text import CountVectorizer\n",
    "vectorizer = CountVectorizer(min_df=10,ngram_range=(1,4), max_features=5000, lowercase=False, binary=True)\n",
    "X_train_school_state_one_hot = vectorizer.fit_transform(X_train['school_state'].values)\n",
    "X_test_school_state_one_hot = vectorizer.transform(X_test['school_state'].values)\n",
    "print(vectorizer.get_feature_names())\n",
    "print(\"Shape of matrix X_train_school_state_one_hot  after one hot encodig \",X_train_school_state_one_hot.shape)\n",
    "print(\"Shape of matrix X_test_school_state_one_hot after one hot encodig \",X_test_school_state_one_hot.shape)\n"
   ]
  },
  {
   "cell_type": "markdown",
   "metadata": {},
   "source": [
    "### Vectorization of clean_subcategories for X_train,X_test"
   ]
  },
  {
   "cell_type": "code",
   "execution_count": 35,
   "metadata": {},
   "outputs": [
    {
     "name": "stdout",
     "output_type": "stream",
     "text": [
      "['Economics', 'ForeignLanguages', 'FinancialLiteracy', 'Extracurricular', 'CommunityService', 'ParentInvolvement', 'Civics_Government', 'Warmth', 'Care_Hunger', 'NutritionEducation', 'SocialSciences', 'CharacterEducation', 'History_Geography', 'PerformingArts', 'TeamSports', 'College_CareerPrep', 'Other', 'Music', 'ESL', 'EarlyDevelopment', 'Health_LifeScience', 'Gym_Fitness', 'VisualArts', 'EnvironmentalScience', 'AppliedSciences', 'Health_Wellness', 'SpecialNeeds', 'Literature_Writing', 'Mathematics', 'Literacy']\n",
      "Shape of matrix X_train_sub_categories_one_hot  after one hot encodig  (1340, 30)\n",
      "Shape of matrix X_test_sub_categories_one_hot after oneX_test_sub_categories_one_hot  hot encodig  (660, 30)\n"
     ]
    }
   ],
   "source": [
    "# we use count vectorizer to convert the values into one \n",
    "vectorizer = CountVectorizer(min_df=10,ngram_range=(1,4), max_features=5000,vocabulary=list(sorted_sub_cat_dict.keys()), lowercase=False, binary=True)\n",
    "X_train_sub_categories_one_hot = vectorizer.fit_transform(X_train['clean_subcategories'].values)\n",
    "X_test_sub_categories_one_hot = vectorizer.transform(X_test['clean_subcategories'].values)\n",
    "\n",
    "print(vectorizer.get_feature_names())\n",
    "print(\"Shape of matrix X_train_sub_categories_one_hot  after one hot encodig \",X_train_sub_categories_one_hot.shape)\n",
    "print(\"Shape of matrix X_test_sub_categories_one_hot after oneX_test_sub_categories_one_hot  hot encodig \",X_test_sub_categories_one_hot.shape)\n"
   ]
  },
  {
   "cell_type": "code",
   "execution_count": 36,
   "metadata": {},
   "outputs": [],
   "source": [
    "# you can do the similar thing with state, teacher_prefix and project_grade_category also"
   ]
  },
  {
   "cell_type": "markdown",
   "metadata": {},
   "source": [
    "## TFIDF of preprocessed_essays for X_train,X_test"
   ]
  },
  {
   "cell_type": "code",
   "execution_count": 37,
   "metadata": {},
   "outputs": [
    {
     "name": "stdout",
     "output_type": "stream",
     "text": [
      "10398\n"
     ]
    }
   ],
   "source": [
    "tfidf_model = TfidfVectorizer()\n",
    "tfidf_model.fit(X_train_preprocessed_essays)\n",
    "# we are converting a dictionary with word as a key, and the idf as a value\n",
    "X_train_dictionary = dict(zip(tfidf_model.get_feature_names(), list(tfidf_model.idf_)))\n",
    "X_train_tfidf_words = set(tfidf_model.get_feature_names())\n",
    "print (len(X_train_tfidf_words))\n",
    "X_train_tfidf = tfidf_model.transform(X_train_preprocessed_essays)\n",
    "X_test_tfidf = tfidf_model.transform(X_test_preprocessed_essays)\n",
    "X_test_dictionary = dict(zip(tfidf_model.get_feature_names(), list(tfidf_model.idf_)))\n",
    "X_test_tfidf_words = set(tfidf_model.get_feature_names())"
   ]
  },
  {
   "cell_type": "code",
   "execution_count": 38,
   "metadata": {},
   "outputs": [],
   "source": [
    "## X_train TFIDF of preprocessed_essays for X_test"
   ]
  },
  {
   "cell_type": "code",
   "execution_count": 39,
   "metadata": {},
   "outputs": [],
   "source": [
    "#tfidf_model = TfidfVectorizer()\n",
    "#tfidf_model.fit(X_test_preprocessed_essays)\n",
    "# we are converting a dictionary with word as a key, and the idf as a value\n",
    "#X_test_dictionary = dict(zip(tfidf_model.get_feature_names(), list(tfidf_model.idf_)))\n",
    "#X_test_dictionary = X_train_dictionary\n",
    "#X_test_tfidf_words = set(tfidf_model.get_feature_names())\n",
    "#print (len(X_test_tfidf_words))"
   ]
  },
  {
   "cell_type": "markdown",
   "metadata": {},
   "source": [
    "### 1.4.2 Vectorizing Text data"
   ]
  },
  {
   "cell_type": "code",
   "execution_count": 40,
   "metadata": {},
   "outputs": [],
   "source": [
    "# stronging variables into pickle files python: http://www.jessicayung.com/how-to-use-pickle-to-save-and-load-variables-in-python/\n",
    "# make sure you have the glove_vectors file\n",
    "with open('C:\\\\VipinML\\\\InputData\\\\glove_vectors', 'rb') as f:\n",
    "    model = pickle.load(f)\n",
    "    glove_words =  set(model.keys())"
   ]
  },
  {
   "cell_type": "markdown",
   "metadata": {},
   "source": [
    "### Vectorization of preprocessed_essays for X_train,X_test"
   ]
  },
  {
   "cell_type": "code",
   "execution_count": 41,
   "metadata": {
    "scrolled": true
   },
   "outputs": [
    {
     "name": "stderr",
     "output_type": "stream",
     "text": [
      "100%|██████████| 1340/1340 [00:00<00:00, 2559.05it/s]\n"
     ]
    },
    {
     "name": "stdout",
     "output_type": "stream",
     "text": [
      "1340\n",
      "300\n"
     ]
    }
   ],
   "source": [
    "# average Word2Vec\n",
    "# compute average word2vec for each review.\n",
    "X_train_avg_w2v_vectors = []; # the avg-w2v for each sentence/review is stored in this list\n",
    "for sentence in tqdm(X_train_preprocessed_essays): # for each review/sentence\n",
    "    vector = np.zeros(300) # as word vectors are of zero length\n",
    "    cnt_words =0; # num of words with a valid vector in the sentence/review\n",
    "    for word in sentence.split(): # for each word in a review/sentence\n",
    "        if word in glove_words:\n",
    "            vector += model[word]\n",
    "            cnt_words += 1\n",
    "    if cnt_words != 0:\n",
    "        vector /= cnt_words\n",
    "    X_train_avg_w2v_vectors.append(vector)\n",
    "\n",
    "print(len(X_train_avg_w2v_vectors))\n",
    "print(len(X_train_avg_w2v_vectors[0]))"
   ]
  },
  {
   "cell_type": "code",
   "execution_count": 42,
   "metadata": {},
   "outputs": [
    {
     "name": "stderr",
     "output_type": "stream",
     "text": [
      "100%|██████████| 660/660 [00:00<00:00, 1787.83it/s]\n"
     ]
    },
    {
     "name": "stdout",
     "output_type": "stream",
     "text": [
      "660\n",
      "300\n"
     ]
    }
   ],
   "source": [
    "# average Word2Vec\n",
    "# compute average word2vec for each review.\n",
    "X_test_avg_w2v_vectors = []; # the avg-w2v for each sentence/review is stored in this list\n",
    "for sentence in tqdm(X_test_preprocessed_essays): # for each review/sentence\n",
    "    vector = np.zeros(300) # as word vectors are of zero length\n",
    "    cnt_words =0; # num of words with a valid vector in the sentence/review\n",
    "    for word in sentence.split(): # for each word in a review/sentence\n",
    "        if word in glove_words:\n",
    "            vector += model[word]\n",
    "            cnt_words += 1\n",
    "    if cnt_words != 0:\n",
    "        vector /= cnt_words\n",
    "    X_test_avg_w2v_vectors.append(vector)\n",
    "\n",
    "print(len(X_test_avg_w2v_vectors))\n",
    "print(len(X_test_avg_w2v_vectors[0]))"
   ]
  },
  {
   "cell_type": "code",
   "execution_count": 43,
   "metadata": {},
   "outputs": [],
   "source": [
    "## TFIDF-W2W Vecorization"
   ]
  },
  {
   "cell_type": "code",
   "execution_count": 44,
   "metadata": {},
   "outputs": [
    {
     "name": "stderr",
     "output_type": "stream",
     "text": [
      "100%|██████████| 1340/1340 [00:07<00:00, 173.85it/s]\n"
     ]
    },
    {
     "name": "stdout",
     "output_type": "stream",
     "text": [
      "1340\n",
      "300\n"
     ]
    }
   ],
   "source": [
    "# average Word2Vec\n",
    "# compute average word2vec for each review.\n",
    "X_train_tfidf_w2v_vectors_pessays = []; # the avg-w2v for each sentence/review is stored in this list\n",
    "for sentence in tqdm(X_train_preprocessed_essays): # for each review/sentence\n",
    "    vector = np.zeros(300) # as word vectors are of zero length\n",
    "    tf_idf_weight =0; # num of words with a valid vector in the sentence/review\n",
    "    for word in sentence.split(): # for each word in a review/sentence\n",
    "        if (word in glove_words) and (word in X_train_tfidf_words):\n",
    "            vec = model[word] # getting the vector for each word\n",
    "            # here we are multiplying idf value(dictionary[word]) and the tf value((sentence.count(word)/len(sentence.split())))\n",
    "            tf_idf = X_train_dictionary[word]*(sentence.count(word)/len(sentence.split())) # getting the tfidf value for each word\n",
    "            vector += (vec * tf_idf) # calculating tfidf weighted w2v\n",
    "            tf_idf_weight += tf_idf\n",
    "    if tf_idf_weight != 0:\n",
    "        vector /= tf_idf_weight\n",
    "    X_train_tfidf_w2v_vectors_pessays.append(vector)\n",
    "\n",
    "print(len(X_train_tfidf_w2v_vectors_pessays))\n",
    "print(len(X_train_tfidf_w2v_vectors_pessays[0]))"
   ]
  },
  {
   "cell_type": "code",
   "execution_count": 45,
   "metadata": {},
   "outputs": [
    {
     "name": "stderr",
     "output_type": "stream",
     "text": [
      "100%|██████████| 660/660 [00:03<00:00, 177.94it/s]\n"
     ]
    },
    {
     "name": "stdout",
     "output_type": "stream",
     "text": [
      "660\n",
      "300\n"
     ]
    }
   ],
   "source": [
    "# average Word2Vec\n",
    "# compute average word2vec for each review.\n",
    "X_test_tfidf_w2v_vectors_pessays = []; # the avg-w2v for each sentence/review is stored in this list\n",
    "for sentence in tqdm(X_test_preprocessed_essays): # for each review/sentence\n",
    "    vector = np.zeros(300) # as word vectors are of zero length\n",
    "    tf_idf_weight =0; # num of words with a valid vector in the sentence/review\n",
    "    for word in sentence.split(): # for each word in a review/sentence\n",
    "        if (word in glove_words) and (word in X_test_tfidf_words):\n",
    "            vec = model[word] # getting the vector for each word\n",
    "            # here we are multiplying idf value(dictionary[word]) and the tf value((sentence.count(word)/len(sentence.split())))\n",
    "            tf_idf = X_test_dictionary[word]*(sentence.count(word)/len(sentence.split())) # getting the tfidf value for each word\n",
    "            vector += (vec * tf_idf) # calculating tfidf weighted w2v\n",
    "            tf_idf_weight += tf_idf\n",
    "    if tf_idf_weight != 0:\n",
    "        vector /= tf_idf_weight\n",
    "    X_test_tfidf_w2v_vectors_pessays.append(vector)\n",
    "\n",
    "print(len(X_test_tfidf_w2v_vectors_pessays))\n",
    "print(len(X_test_tfidf_w2v_vectors_pessays[0]))"
   ]
  },
  {
   "cell_type": "code",
   "execution_count": 46,
   "metadata": {},
   "outputs": [
    {
     "name": "stderr",
     "output_type": "stream",
     "text": [
      "100%|██████████| 660/660 [00:00<00:00, 22064.55it/s]\n"
     ]
    },
    {
     "name": "stdout",
     "output_type": "stream",
     "text": [
      "660\n",
      "300\n"
     ]
    }
   ],
   "source": [
    "# average Word2Vec\n",
    "# compute average word2vec for each review.\n",
    "X_test_tfidf_w2v_vectors_ptitle = []; # the avg-w2v for each sentence/review is stored in this list\n",
    "for sentence in tqdm(X_test['project_title']): # for each review/sentence\n",
    "    vector = np.zeros(300) # as word vectors are of zero length\n",
    "    tf_idf_weight =0; # num of words with a valid vector in the sentence/review\n",
    "    for word in sentence.split(): # for each word in a review/sentence\n",
    "        if (word in glove_words) and (word in X_test_tfidf_words):\n",
    "            vec = model[word] # getting the vector for each word\n",
    "            # here we are multiplying idf value(dictionary[word]) and the tf value((sentence.count(word)/len(sentence.split())))\n",
    "            tf_idf = X_test_dictionary[word]*(sentence.count(word)/len(sentence.split())) # getting the tfidf value for each word\n",
    "            vector += (vec * tf_idf) # calculating tfidf weighted w2v\n",
    "            tf_idf_weight += tf_idf\n",
    "    if tf_idf_weight != 0:\n",
    "        vector /= tf_idf_weight\n",
    "    X_test_tfidf_w2v_vectors_ptitle.append(vector)\n",
    "\n",
    "print(len(X_test_tfidf_w2v_vectors_ptitle))\n",
    "print(len(X_test_tfidf_w2v_vectors_ptitle[0]))"
   ]
  },
  {
   "cell_type": "code",
   "execution_count": 47,
   "metadata": {},
   "outputs": [
    {
     "name": "stderr",
     "output_type": "stream",
     "text": [
      "100%|██████████| 1340/1340 [00:00<00:00, 22773.42it/s]\n"
     ]
    },
    {
     "name": "stdout",
     "output_type": "stream",
     "text": [
      "1340\n",
      "300\n"
     ]
    }
   ],
   "source": [
    "# average Word2Vec\n",
    "# compute average word2vec for each review.\n",
    "\n",
    "X_train_tfidf_w2v_vectors_ptitle = []; # the avg-w2v for each sentence/review is stored in this list\n",
    "for sentence in tqdm(X_train['project_title']): # for each review/sentence\n",
    "    vector = np.zeros(300) # as word vectors are of zero length\n",
    "    tf_idf_weight =0; # num of words with a valid vector in the sentence/review\n",
    "    for word in sentence.split(): # for each word in a review/sentence\n",
    "        if (word in glove_words) and (word in X_train_tfidf_words):\n",
    "            vec = model[word] # getting the vector for each word\n",
    "            # here we are multiplying idf value(dictionary[word]) and the tf value((sentence.count(word)/len(sentence.split())))\n",
    "            tf_idf = X_train_dictionary[word]*(sentence.count(word)/len(sentence.split())) # getting the tfidf value for each word\n",
    "            vector += (vec * tf_idf) # calculating tfidf weighted w2v\n",
    "            tf_idf_weight += tf_idf\n",
    "    if tf_idf_weight != 0:\n",
    "        vector /= tf_idf_weight\n",
    "    X_train_tfidf_w2v_vectors_ptitle.append(vector)\n",
    "\n",
    "print(len(X_train_tfidf_w2v_vectors_ptitle))\n",
    "print(len(X_train_tfidf_w2v_vectors_ptitle[0]))"
   ]
  },
  {
   "cell_type": "markdown",
   "metadata": {},
   "source": [
    "### Vectorization of teacher_prefix  for X_train,X_test, X_cv"
   ]
  },
  {
   "cell_type": "code",
   "execution_count": 48,
   "metadata": {},
   "outputs": [
    {
     "name": "stdout",
     "output_type": "stream",
     "text": [
      "Shape of matrix after one hot encodig  (1340, 30)\n"
     ]
    }
   ],
   "source": [
    "# we use count vectorizer to convert the values into one hot encoded features\n",
    "from sklearn.feature_extraction.text import CountVectorizer\n",
    "vectorizer = CountVectorizer(min_df=10,ngram_range=(1,4), vocabulary=list(sorted_teacher_dict.keys()),max_features=5000, lowercase=False, binary=True)\n",
    "X_train_teacher_prefix_data = X_train['teacher_prefix']\n",
    "\n",
    "X_train_teacher_prefix_data.fillna(\"Mrs.\", inplace = True) \n",
    "\n",
    "teacher_prefix_notnull = X_train_teacher_prefix_data[pd.notnull(X_train_teacher_prefix_data)]\n",
    "\n",
    "vectorizer.fit(teacher_prefix_notnull.values)\n",
    "\n",
    "#print(vectorizer.get_feature_names())\n",
    "\n",
    "#print(teacher_prefix_notnull.values)\n",
    "\n",
    "X_train_teacher_prefix_one_hot = vectorizer.fit_transform(teacher_prefix_notnull.values)\n",
    "print(\"Shape of matrix after one hot encodig \",X_train_teacher_prefix_one_hot.shape)\n"
   ]
  },
  {
   "cell_type": "code",
   "execution_count": 49,
   "metadata": {},
   "outputs": [
    {
     "name": "stdout",
     "output_type": "stream",
     "text": [
      "Shape of matrix after one hot encodig  (660, 30)\n"
     ]
    }
   ],
   "source": [
    "# we use count vectorizer to convert the values into one hot encoded features\n",
    "from sklearn.feature_extraction.text import CountVectorizer\n",
    "vectorizer1 = CountVectorizer(min_df=10,ngram_range=(1,4), max_features=5000,vocabulary=list(sorted_teacher_dict.keys()), lowercase=False, binary=True)\n",
    "X_test_teacher_prefix_data = X_test['teacher_prefix']\n",
    "X_test_teacher_prefix_data.fillna(\"Mrs.\", inplace = True) \n",
    "teacher_prefix_notnull = X_test_teacher_prefix_data[pd.notnull(X_test_teacher_prefix_data)]\n",
    "vectorizer.fit(teacher_prefix_notnull.values)\n",
    "X_test_teacher_prefix_one_hot = vectorizer1.transform(teacher_prefix_notnull.values)\n",
    "print(\"Shape of matrix after one hot encodig \",X_test_teacher_prefix_one_hot.shape)\n"
   ]
  },
  {
   "cell_type": "markdown",
   "metadata": {},
   "source": [
    "### Vectorization of price for X_train,X_test"
   ]
  },
  {
   "cell_type": "code",
   "execution_count": 50,
   "metadata": {},
   "outputs": [
    {
     "data": {
      "text/html": [
       "<div>\n",
       "<style scoped>\n",
       "    .dataframe tbody tr th:only-of-type {\n",
       "        vertical-align: middle;\n",
       "    }\n",
       "\n",
       "    .dataframe tbody tr th {\n",
       "        vertical-align: top;\n",
       "    }\n",
       "\n",
       "    .dataframe thead th {\n",
       "        text-align: right;\n",
       "    }\n",
       "</style>\n",
       "<table border=\"1\" class=\"dataframe\">\n",
       "  <thead>\n",
       "    <tr style=\"text-align: right;\">\n",
       "      <th></th>\n",
       "      <th>Unnamed: 0</th>\n",
       "      <th>id</th>\n",
       "      <th>teacher_id</th>\n",
       "      <th>school_state</th>\n",
       "      <th>Date</th>\n",
       "      <th>project_grade_category</th>\n",
       "      <th>project_title</th>\n",
       "      <th>project_essay_1</th>\n",
       "      <th>project_essay_2</th>\n",
       "      <th>project_essay_3</th>\n",
       "      <th>...</th>\n",
       "      <th>project_resource_summary</th>\n",
       "      <th>teacher_number_of_previously_posted_projects</th>\n",
       "      <th>clean_categories</th>\n",
       "      <th>clean_subcategories</th>\n",
       "      <th>teacher_prefix</th>\n",
       "      <th>essay</th>\n",
       "      <th>price</th>\n",
       "      <th>quantity</th>\n",
       "      <th>project_title_count</th>\n",
       "      <th>essay_count</th>\n",
       "    </tr>\n",
       "  </thead>\n",
       "  <tbody>\n",
       "    <tr>\n",
       "      <th>296</th>\n",
       "      <td>155163</td>\n",
       "      <td>p050840</td>\n",
       "      <td>c33ff7a0d4423b2120c390c71bf6441e</td>\n",
       "      <td>PA</td>\n",
       "      <td>2016-07-25 09:20:09</td>\n",
       "      <td>Grades_6_8</td>\n",
       "      <td>The Power of Movement and Learning</td>\n",
       "      <td>Research states that \\\"Movement is a powerful ...</td>\n",
       "      <td>Research states that \\\"Movement is a powerful ...</td>\n",
       "      <td>NaN</td>\n",
       "      <td>...</td>\n",
       "      <td>My students need equipment that will be a solu...</td>\n",
       "      <td>3</td>\n",
       "      <td>Literacy_Language</td>\n",
       "      <td>Literature_Writing</td>\n",
       "      <td>Literature_Writing</td>\n",
       "      <td>Research states that \\\"Movement is a powerful ...</td>\n",
       "      <td>103.01</td>\n",
       "      <td>4.0</td>\n",
       "      <td>6</td>\n",
       "      <td>267</td>\n",
       "    </tr>\n",
       "  </tbody>\n",
       "</table>\n",
       "<p>1 rows × 21 columns</p>\n",
       "</div>"
      ],
      "text/plain": [
       "     Unnamed: 0       id                        teacher_id school_state  \\\n",
       "296      155163  p050840  c33ff7a0d4423b2120c390c71bf6441e           PA   \n",
       "\n",
       "                   Date project_grade_category  \\\n",
       "296 2016-07-25 09:20:09             Grades_6_8   \n",
       "\n",
       "                          project_title  \\\n",
       "296  The Power of Movement and Learning   \n",
       "\n",
       "                                       project_essay_1  \\\n",
       "296  Research states that \\\"Movement is a powerful ...   \n",
       "\n",
       "                                       project_essay_2 project_essay_3  ...  \\\n",
       "296  Research states that \\\"Movement is a powerful ...             NaN  ...   \n",
       "\n",
       "                              project_resource_summary  \\\n",
       "296  My students need equipment that will be a solu...   \n",
       "\n",
       "    teacher_number_of_previously_posted_projects   clean_categories  \\\n",
       "296                                            3  Literacy_Language   \n",
       "\n",
       "    clean_subcategories      teacher_prefix  \\\n",
       "296  Literature_Writing  Literature_Writing   \n",
       "\n",
       "                                                 essay   price  quantity  \\\n",
       "296  Research states that \\\"Movement is a powerful ...  103.01       4.0   \n",
       "\n",
       "     project_title_count  essay_count  \n",
       "296                    6          267  \n",
       "\n",
       "[1 rows x 21 columns]"
      ]
     },
     "execution_count": 50,
     "metadata": {},
     "output_type": "execute_result"
    }
   ],
   "source": [
    "X_train.head(1)\n",
    "X_test.head(1)\n"
   ]
  },
  {
   "cell_type": "code",
   "execution_count": 51,
   "metadata": {},
   "outputs": [
    {
     "name": "stdout",
     "output_type": "stream",
     "text": [
      "After vectorizations\n",
      "<class 'numpy.ndarray'>\n",
      "(1340, 1) (1340,)\n",
      "(660, 1) (660,)\n",
      "====================================================================================================\n"
     ]
    }
   ],
   "source": [
    "from sklearn.preprocessing import Normalizer\n",
    "normalizer = Normalizer()\n",
    "# normalizer.fit(X_train['price'].values)\n",
    "# this will rise an error Expected 2D array, got 1D array instead: \n",
    "# array=[105.22 215.96  96.01 ... 368.98  80.53 709.67].\n",
    "# Reshape your data either using \n",
    "# array.reshape(-1, 1) if your data has a single feature \n",
    "# array.reshape(1, -1)  if it contains a single sample.\n",
    "\n",
    "#normalizer.fit(X_train['price'].values.reshape(-1,1))\n",
    "\n",
    "X_train_price_norm = normalizer.transform(X_train['price'].values.reshape(1,-1))\n",
    "X_test_price_norm = normalizer.transform(X_test['price'].values.reshape(1,-1))\n",
    "X_train_price_norm= X_train_price_norm.reshape(-1,1)\n",
    "X_test_price_norm=X_test_price_norm.reshape(-1,1)\n",
    "\n",
    "print(\"After vectorizations\")\n",
    "print (type(X_train_price_norm))\n",
    "print(X_train_price_norm.shape, y_train.shape)\n",
    "print(X_test_price_norm.shape, y_test.shape)\n",
    "\n",
    "print(\"=\"*100)"
   ]
  },
  {
   "cell_type": "markdown",
   "metadata": {},
   "source": [
    "###  Normalization of Project Title Count."
   ]
  },
  {
   "cell_type": "code",
   "execution_count": 52,
   "metadata": {},
   "outputs": [
    {
     "name": "stdout",
     "output_type": "stream",
     "text": [
      "After vectorizations\n",
      "(1340, 1) (1340,)\n",
      "(660, 1) (660,)\n",
      "====================================================================================================\n"
     ]
    }
   ],
   "source": [
    "from sklearn.preprocessing import Normalizer\n",
    "normalizer = Normalizer()\n",
    "\n",
    "#print (X_train['project_title_count'])\n",
    "\n",
    "X_train_project_title_count_norm = normalizer.fit_transform(X_train['project_title_count'].values.reshape(1,-1))\n",
    "X_test_project_title_count_norm = normalizer.transform(X_test['project_title_count'].values.reshape(1,-1))\n",
    "\n",
    "X_train_project_title_count_norm= X_train_project_title_count_norm.reshape(-1,1)\n",
    "X_test_project_title_count_norm=X_test_project_title_count_norm.reshape(-1,1)\n",
    "\n",
    "print(\"After vectorizations\")\n",
    "print(X_train_project_title_count_norm.shape, y_train.shape)\n",
    "print(X_test_project_title_count_norm.shape, y_test.shape)\n",
    "print(\"=\"*100)"
   ]
  },
  {
   "cell_type": "markdown",
   "metadata": {},
   "source": [
    "###  Normalization of essay count words."
   ]
  },
  {
   "cell_type": "code",
   "execution_count": 53,
   "metadata": {},
   "outputs": [
    {
     "name": "stdout",
     "output_type": "stream",
     "text": [
      "After vectorizations\n",
      "(1340, 1) (1340,)\n",
      "(660, 1) (660,)\n",
      "====================================================================================================\n"
     ]
    }
   ],
   "source": [
    "from sklearn.preprocessing import Normalizer\n",
    "normalizer = Normalizer()\n",
    "\n",
    "#print (X_train['project_title_count'])\n",
    "\n",
    "X_train_essay_count_norm = normalizer.fit_transform(X_train['essay_count'].values.reshape(1,-1))\n",
    "X_test_essay_count_norm = normalizer.transform(X_test['essay_count'].values.reshape(1,-1))\n",
    "\n",
    "X_train_essay_count_norm= X_train_essay_count_norm.reshape(-1,1)\n",
    "X_test_essay_count_norm=X_test_essay_count_norm.reshape(-1,1)\n",
    "\n",
    "print(\"After vectorizations\")\n",
    "print(X_train_essay_count_norm.shape, y_train.shape)\n",
    "print(X_test_essay_count_norm.shape, y_test.shape)\n",
    "print(\"=\"*100)"
   ]
  },
  {
   "cell_type": "code",
   "execution_count": 54,
   "metadata": {},
   "outputs": [
    {
     "name": "stdout",
     "output_type": "stream",
     "text": [
      "After vectorizations\n",
      "(1340, 1) (1340,)\n",
      "(660, 1) (660,)\n",
      "====================================================================================================\n"
     ]
    }
   ],
   "source": [
    "from sklearn.preprocessing import Normalizer\n",
    "normalizer = Normalizer()\n",
    "\n",
    "#print (X_train['project_title_count'])\n",
    "\n",
    "X_train_quantity_norm = normalizer.fit_transform(X_train['quantity'].values.reshape(1,-1))\n",
    "X_test_quantity_norm = normalizer.transform(X_test['quantity'].values.reshape(1,-1))\n",
    "\n",
    "X_train_quantity_norm= X_train_quantity_norm.reshape(-1,1)\n",
    "X_test_quantity_norm=X_test_quantity_norm.reshape(-1,1)\n",
    "\n",
    "print(\"After vectorizations\")\n",
    "print(X_train_quantity_norm.shape, y_train.shape)\n",
    "print(X_test_quantity_norm.shape, y_test.shape)\n",
    "print(\"=\"*100)"
   ]
  },
  {
   "cell_type": "code",
   "execution_count": 55,
   "metadata": {},
   "outputs": [
    {
     "name": "stdout",
     "output_type": "stream",
     "text": [
      "After vectorizations\n",
      "(1340, 1) (1340,)\n",
      "(660, 1) (660,)\n",
      "====================================================================================================\n"
     ]
    }
   ],
   "source": [
    "from sklearn.preprocessing import Normalizer\n",
    "normalizer = Normalizer()\n",
    "\n",
    "X_train_teacher_number_of_previously_posted_projects_norm = normalizer.fit_transform(X_train['teacher_number_of_previously_posted_projects'].values.reshape(1,-1))\n",
    "X_test_teacher_number_of_previously_posted_projects_norm = normalizer.transform(X_test['teacher_number_of_previously_posted_projects'].values.reshape(1,-1))\n",
    "\n",
    "X_train_teacher_number_of_previously_posted_projects_norm= X_train_teacher_number_of_previously_posted_projects_norm.reshape(-1,1)\n",
    "X_test_teacher_number_of_previously_posted_projects_norm=X_test_teacher_number_of_previously_posted_projects_norm.reshape(-1,1)\n",
    "\n",
    "print(\"After vectorizations\")\n",
    "print(X_train_teacher_number_of_previously_posted_projects_norm.shape, y_train.shape)\n",
    "print(X_test_teacher_number_of_previously_posted_projects_norm.shape, y_test.shape)\n",
    "print(\"=\"*100)"
   ]
  },
  {
   "cell_type": "markdown",
   "metadata": {},
   "source": [
    "## Bag of words of preprocessed_essays for X_train,X_test"
   ]
  },
  {
   "cell_type": "code",
   "execution_count": 56,
   "metadata": {},
   "outputs": [
    {
     "name": "stdout",
     "output_type": "stream",
     "text": [
      "Shape of matrix X_train_text_bow after one hot encodig  (1340, 4191)\n",
      "Shape of matrix X_test_text_bow after one hot encodig  (660, 4191)\n"
     ]
    }
   ],
   "source": [
    "# We are considering only the words which appeared in at least 10 documents(rows or projects).\n",
    "vectorizer = CountVectorizer(min_df=10,ngram_range=(1,4),  max_features=5000)\n",
    "X_train_text_bow = vectorizer.fit_transform(X_train_preprocessed_essays)\n",
    "X_test_text_bow = vectorizer.transform(X_test_preprocessed_essays)\n",
    "\n",
    "print(\"Shape of matrix X_train_text_bow after one hot encodig \",X_train_text_bow.shape)\n",
    "print(\"Shape of matrix X_test_text_bow after one hot encodig \",X_test_text_bow.shape)\n"
   ]
  },
  {
   "cell_type": "markdown",
   "metadata": {},
   "source": [
    "## Bag of words of project_title for X_train,X_test"
   ]
  },
  {
   "cell_type": "code",
   "execution_count": 57,
   "metadata": {},
   "outputs": [
    {
     "name": "stdout",
     "output_type": "stream",
     "text": [
      "Shape of matrix X_train_project_title_bow after one hot encodig  (1340, 138)\n",
      "Shape of matrix X_test_project_title_bow after one hot encodig  (660, 138)\n"
     ]
    }
   ],
   "source": [
    "# PROJECT_TITLE BOW\n",
    "# We are considering only the words which appeared in at least 10 documents(rows or projects). \n",
    "vectorizer = CountVectorizer(min_df=10,ngram_range=(1,4), max_features=5000)\n",
    "X_train_project_title_bow = vectorizer.fit_transform(X_train['project_title'])\n",
    "X_test_project_title_bow = vectorizer.transform(X_test['project_title'])\n",
    "\n",
    "print(\"Shape of matrix X_train_project_title_bow after one hot encodig \",X_train_project_title_bow .shape)\n",
    "print(\"Shape of matrix X_test_project_title_bow after one hot encodig \",X_test_project_title_bow .shape)\n"
   ]
  },
  {
   "cell_type": "markdown",
   "metadata": {},
   "source": [
    "## TFIDF of preprocessed_essays for X_train,X_test"
   ]
  },
  {
   "cell_type": "code",
   "execution_count": 58,
   "metadata": {},
   "outputs": [
    {
     "name": "stdout",
     "output_type": "stream",
     "text": [
      "Shape of matrix X_train_text_tfidf after one hot encodig  (1340, 10398)\n",
      "Shape of matrix X_test_text_tfidf after one hot encodig  (660, 10398)\n"
     ]
    }
   ],
   "source": [
    "from sklearn.feature_extraction.text import TfidfVectorizer\n",
    "vectorizer = TfidfVectorizer()\n",
    "X_train_text_tfidf = vectorizer.fit_transform(X_train_preprocessed_essays)\n",
    "X_test_text_tfidf = vectorizer.transform(X_test_preprocessed_essays)\n",
    "\n",
    "print(\"Shape of matrix X_train_text_tfidf after one hot encodig \",X_train_text_tfidf.shape)\n",
    "print(\"Shape of matrix X_test_text_tfidf after one hot encodig \",X_test_text_tfidf.shape)\n"
   ]
  },
  {
   "cell_type": "markdown",
   "metadata": {},
   "source": [
    "## TFIDF of Project Title for X_train,X_test"
   ]
  },
  {
   "cell_type": "code",
   "execution_count": 59,
   "metadata": {},
   "outputs": [
    {
     "name": "stdout",
     "output_type": "stream",
     "text": [
      "Shape of matrix  X_train_project_title_tfidf after one hot encodig  (1340, 111)\n",
      "Shape of matrix  X_test_project_title_tfidf after one hot encodig  (660, 111)\n"
     ]
    }
   ],
   "source": [
    "from sklearn.feature_extraction.text import TfidfVectorizer\n",
    "vectorizer = TfidfVectorizer(min_df=10)\n",
    "X_train_project_title_tfidf = vectorizer.fit_transform((X_train['project_title']))\n",
    "X_test_project_title_tfidf = vectorizer.transform((X_test['project_title']))\n",
    "\n",
    "print(\"Shape of matrix  X_train_project_title_tfidf after one hot encodig \",X_train_project_title_tfidf.shape)\n",
    "print(\"Shape of matrix  X_test_project_title_tfidf after one hot encodig \",X_test_project_title_tfidf.shape)\n"
   ]
  },
  {
   "cell_type": "markdown",
   "metadata": {},
   "source": [
    "### TFIDF AVG W2V for Project Title for X_train,X_test"
   ]
  },
  {
   "cell_type": "code",
   "execution_count": 60,
   "metadata": {},
   "outputs": [
    {
     "name": "stderr",
     "output_type": "stream",
     "text": [
      "100%|██████████| 1340/1340 [00:00<00:00, 37478.11it/s]\n"
     ]
    },
    {
     "name": "stdout",
     "output_type": "stream",
     "text": [
      "1340\n",
      "300\n"
     ]
    }
   ],
   "source": [
    "# average Word2Vec\n",
    "# compute average word2vec for each review.\n",
    "X_train_project_title_avg_w2v_vectors = []; # the avg-w2v for each sentence/review is stored in this list\n",
    "for sentence in tqdm(X_train['project_title']): # for each review/sentence\n",
    "    vector = np.zeros(300) # as word vectors are of zero length\n",
    "    cnt_words =0; # num of words with a valid vector in the sentence/review\n",
    "    for word in sentence.split(): # for each word in a review/sentence\n",
    "        if word in glove_words:\n",
    "            vector += model[word]\n",
    "            cnt_words += 1\n",
    "    if cnt_words != 0:\n",
    "        vector /= cnt_words\n",
    "    X_train_project_title_avg_w2v_vectors.append(vector)\n",
    "\n",
    "print(len(X_train_project_title_avg_w2v_vectors))\n",
    "print(len(X_train_project_title_avg_w2v_vectors[0]))"
   ]
  },
  {
   "cell_type": "code",
   "execution_count": 61,
   "metadata": {},
   "outputs": [
    {
     "name": "stderr",
     "output_type": "stream",
     "text": [
      "100%|██████████| 660/660 [00:00<00:00, 30551.16it/s]\n"
     ]
    },
    {
     "name": "stdout",
     "output_type": "stream",
     "text": [
      "660\n",
      "300\n"
     ]
    }
   ],
   "source": [
    "# average Word2Vec\n",
    "# compute average word2vec for each review.\n",
    "X_test_project_title_avg_w2v_vectors = []; # the avg-w2v for each sentence/review is stored in this list\n",
    "for sentence in tqdm(X_test['project_title']): # for each review/sentence\n",
    "    vector = np.zeros(300) # as word vectors are of zero length\n",
    "    cnt_words =0; # num of words with a valid vector in the sentence/review\n",
    "    for word in sentence.split(): # for each word in a review/sentence\n",
    "        if word in glove_words:\n",
    "            vector += model[word]\n",
    "            cnt_words += 1\n",
    "    if cnt_words != 0:\n",
    "        vector /= cnt_words\n",
    "    X_test_project_title_avg_w2v_vectors.append(vector)\n",
    "\n",
    "print(len(X_test_project_title_avg_w2v_vectors))\n",
    "print(len(X_test_project_title_avg_w2v_vectors[0]))"
   ]
  },
  {
   "cell_type": "code",
   "execution_count": 62,
   "metadata": {},
   "outputs": [
    {
     "name": "stdout",
     "output_type": "stream",
     "text": [
      "(1340, 61) (1340,)\n",
      "(660, 61) (660,)\n",
      "====================================================================================================\n",
      "(1340, 172) (1340,)\n",
      "(660, 172) (660,)\n",
      "====================================================================================================\n",
      "(1340, 126) (1340,)\n",
      "(660, 126) (660,)\n",
      "====================================================================================================\n",
      "(1340, 1325) (1340,)\n",
      "(660, 1325) (660,)\n",
      "====================================================================================================\n"
     ]
    }
   ],
   "source": [
    "# merge two sparse matrices: https://stackoverflow.com/a/19710648/4084039\n",
    "from scipy.sparse import hstack\n",
    "\n",
    "\n",
    "X_tr = hstack((X_train_price_norm,X_train_sub_categories_one_hot,X_train_teacher_prefix_one_hot)).tocsr()\n",
    "X_te = hstack((X_test_price_norm,X_test_sub_categories_one_hot,X_test_teacher_prefix_one_hot)).tocsr()\n",
    "\n",
    "#print (X_train_price_norm)\n",
    "X_tr_bow = hstack((X_train_price_norm,X_train_sub_categories_one_hot,X_train_teacher_prefix_one_hot,\\\n",
    "                  X_train_project_title_bow )).tocsr()\n",
    "X_te_bow = hstack((X_test_price_norm,X_test_sub_categories_one_hot,X_test_teacher_prefix_one_hot,\\\n",
    "                   X_test_project_title_bow)).tocsr()\n",
    "\n",
    "#X_tr_bow = hstack((X_train_price_norm,X_train_sub_categories_one_hot,X_train_teacher_prefix_one_hot,\\\n",
    "                #   X_train_text_bow,X_train_project_title_bow)).tocsr()\n",
    "#X_te_bow = hstack((X_test_price_norm,X_test_sub_categories_one_hot,X_test_teacher_prefix_one_hot,\\\n",
    "                  # X_test_text_bow,X_test_project_title_bow)).tocsr()\n",
    "\n",
    "X_tr_tfidf = hstack((X_train_sub_categories_one_hot,X_train_teacher_prefix_one_hot,X_train_price_norm,\\\n",
    "                     X_train_project_title_tfidf)).tocsr()\n",
    "X_te_tfidf = hstack((X_test_sub_categories_one_hot,X_test_teacher_prefix_one_hot,X_test_price_norm,\\\n",
    "                     X_test_project_title_tfidf)).tocsr()\n",
    "\n",
    "\n",
    "#X_tr_tfidf = hstack((X_train_sub_categories_one_hot,X_train_teacher_prefix_one_hot,X_train_price_norm,\\\n",
    "#                     X_train_project_title_tfidf,X_train_tfidf)).tocsr()\n",
    "#X_te_tfidf = hstack((X_test_sub_categories_one_hot,X_test_teacher_prefix_one_hot,X_test_price_norm,\\\n",
    "#                     X_test_project_title_tfidf,X_test_tfidf)).tocsr()\n",
    "\n",
    "X_tr_tfidf_w2v = hstack((X_train_sub_categories_one_hot,X_train_teacher_prefix_one_hot,X_train_price_norm,\\\n",
    "                         X_train_project_title_avg_w2v_vectors,X_train_tfidf_w2v_vectors_pessays)).tocsr()\n",
    "X_te_tfidf_w2v = hstack((X_test_sub_categories_one_hot,X_test_teacher_prefix_one_hot,X_test_price_norm,\\\n",
    "                         X_test_project_title_avg_w2v_vectors,X_test_tfidf_w2v_vectors_pessays)).tocsr()\n",
    "\n",
    "\n",
    "X_tr_avg_w2v = hstack((X_train_sub_categories_one_hot,X_train_teacher_prefix_one_hot,X_train_price_norm,\\\n",
    "                       X_train_project_title_avg_w2v_vectors)).tocsr()\n",
    "X_te_avg_w2v = hstack((X_test_sub_categories_one_hot,X_test_teacher_prefix_one_hot,X_test_price_norm,\\\n",
    "                       X_test_project_title_avg_w2v_vectors)).tocsr()\n",
    "\n",
    "#set 5\n",
    "\n",
    "X_te_set5 =hstack((X_test_school_state_one_hot,X_test_categories_one_hot,X_test_sub_categories_one_hot,\\\n",
    "                  X_test_teacher_prefix_one_hot,X_test_quantity_norm,X_test_price_norm,X_test_project_grade_category_one_hot,\\\n",
    "                  X_test_teacher_number_of_previously_posted_projects_norm,X_test_price_norm,\\\n",
    "                  X_test_project_title_count_norm,X_test_essay_count_norm))\n",
    "\n",
    "X_tr_set5 =hstack((X_train_school_state_one_hot,X_train_categories_one_hot, X_train_sub_categories_one_hot,\\\n",
    "                  X_train_teacher_prefix_one_hot,X_train_quantity_norm,X_train_price_norm,X_train_project_grade_category_one_hot,\\\n",
    "                  X_train_teacher_number_of_previously_posted_projects_norm,X_train_price_norm,X_train_project_title_count_norm,\\\n",
    "                  X_train_essay_count_norm))\n",
    "\n",
    "X_te_tfidf_avg_w2v = hstack((X_test_school_state_one_hot,X_test_categories_one_hot,X_test_sub_categories_one_hot,\\\n",
    "                  X_test_tfidf_w2v_vectors_pessays,X_test_tfidf_w2v_vectors_ptitle))\n",
    "\n",
    "X_tr_tfidf_avg_w2v = hstack((X_train_school_state_one_hot,X_train_categories_one_hot, X_train_sub_categories_one_hot,\\\n",
    "                  X_train_tfidf_w2v_vectors_pessays,X_train_tfidf_w2v_vectors_ptitle))\n",
    "\n",
    "\n",
    "## Set 6 id added to cover TransactSVD logic.\n",
    "\n",
    "\n",
    "X_te_set6 =hstack((X_test_school_state_one_hot,X_test_categories_one_hot,X_test_sub_categories_one_hot,\\\n",
    "                  X_test_teacher_prefix_one_hot,X_test_quantity_norm,X_test_project_grade_category_one_hot,\\\n",
    "                  X_test_teacher_number_of_previously_posted_projects_norm,X_test_price_norm,\\\n",
    "                  X_test_project_title_count_norm,X_test_tfidf_w2v_vectors_pessays,X_test_essay_count_norm,\\\n",
    "                  X_test_tfidf_w2v_vectors_ptitle,Xtest_svd_tfidf_essay))\n",
    "\n",
    "X_tr_set6 =hstack((X_train_school_state_one_hot,X_train_categories_one_hot,X_train_sub_categories_one_hot,\\\n",
    "                  X_train_teacher_prefix_one_hot,X_train_quantity_norm,X_train_project_grade_category_one_hot,\\\n",
    "                  X_train_teacher_number_of_previously_posted_projects_norm,X_train_price_norm,\\\n",
    "                  X_train_project_title_count_norm,X_train_tfidf_w2v_vectors_pessays,X_train_essay_count_norm,\\\n",
    "                  X_train_tfidf_w2v_vectors_ptitle,Xtrain_svd_tfidf_essay))\n",
    "\n",
    "#print(\"Final Data matrix\")\n",
    "print(X_tr.shape, y_train.shape)\n",
    "print(X_te.shape, y_test.shape)\n",
    "\n",
    "print(\"=\"*100)\n",
    "\n",
    "print(X_tr_tfidf.shape, y_train.shape)\n",
    "print(X_te_tfidf.shape, y_test.shape)\n",
    "print(\"=\"*100)\n",
    "\n",
    "print(X_tr_set5.shape,y_train.shape )\n",
    "print(X_te_set5.shape,y_test.shape )\n",
    "print(\"=\"*100)\n",
    "\n",
    "print(X_tr_set6.shape,y_train.shape )\n",
    "print(X_te_set6.shape,y_test.shape )\n",
    "print(\"=\"*100)\n"
   ]
  },
  {
   "cell_type": "code",
   "execution_count": null,
   "metadata": {},
   "outputs": [],
   "source": []
  },
  {
   "cell_type": "markdown",
   "metadata": {},
   "source": [
    "# Assignment 5: DecisionTree\n",
    "\n",
    "<ol>\n",
    "    <li><strong>[Task-1] DecisionTree (either SGDClassifier with log loss, or DecisionTree) on these feature sets</strong>\n",
    "        <ul>\n",
    "            <li><font color='red'>Set 1</font>: categorical, numerical features + project_title(BOW) + preprocessed_eassay (`BOW with bi-grams` with `min_df=10` and `max_features=5000`)</li>\n",
    "            <li><font color='red'>Set 2</font>: categorical, numerical features + project_title(TFIDF)+  preprocessed_eassay (`TFIDF with bi-grams` with `min_df=10` and `max_features=5000`)</li>\n",
    "            <li><font color='red'>Set 3</font>: categorical, numerical features + project_title(AVG W2V)+  preprocessed_eassay (AVG W2V)</li>\n",
    "            <li><font color='red'>Set 4</font>: categorical, numerical features + project_title(TFIDF W2V)+  preprocessed_essay (TFIDF W2V)</li>        </ul>\n",
    "    </li>\n",
    "    <br>\n",
    "    <li><strong>Hyper paramter tuning (find best hyper parameters corresponding the algorithm that you choose)</strong>\n",
    "        <ul>\n",
    "    <li>Find the best hyper parameter which will give the maximum <a href='https://www.appliedaicourse.com/course/applied-ai-course-online/lessons/receiver-operating-characteristic-curve-roc-curve-and-auc-1/'>AUC</a> value</li>\n",
    "    <li>Find the best hyper paramter using k-fold cross validation or simple cross validation data</li>\n",
    "    <li>Use gridsearch cv or randomsearch cv or you can also write your own for loops to do this task of hyperparameter tuning</li>          \n",
    "        </ul>\n",
    "    </li>\n",
    "    <br>\n",
    "    <li><strong>Representation of results</strong>\n",
    "        <ul>\n",
    "    <li>You need to plot the performance of model both on train data and cross validation data for each hyper parameter, like shown in the figure.\n",
    "    <img src='train_cv_auc.JPG' width=300px></li>\n",
    "    <li>Once after you found the best hyper parameter, you need to train your model with it, and find the AUC on test data and plot the ROC curve on both train and test.\n",
    "    <img src='train_test_auc.JPG' width=300px></li>\n",
    "    <li>Along with plotting ROC curve, you need to print the <a href='https://www.appliedaicourse.com/course/applied-ai-course-online/lessons/confusion-matrix-tpr-fpr-fnr-tnr-1/'>confusion matrix</a> with predicted and original labels of test data points. Please visualize your confusion matrices using <a href='https://seaborn.pydata.org/generated/seaborn.heatmap.html'>seaborn heatmaps.\n",
    "    <img src='confusion_matrix.png' width=300px></li>\n",
    "        </ul>\n",
    "    </li>\n",
    "    <br>\n",
    "    <li><strong>[Task-2] Apply DecisionTree on the below feature set <font color='red'> Set 5 </font> by finding the best hyper parameter as suggested in step 2 and step 3.</strong>\n",
    "    <li> Consider these set of features <font color='red'> Set 5 :</font>\n",
    "            <ul>\n",
    "                <li><strong>school_state</strong> : categorical data</li>\n",
    "                <li><strong>clean_categories</strong> : categorical data</li>\n",
    "                <li><strong>clean_subcategories</strong> : categorical data</li>\n",
    "                <li><strong>project_grade_category</strong> :categorical data</li>\n",
    "                <li><strong>teacher_prefix</strong> : categorical data</li>\n",
    "                <li><strong>quantity</strong> : numerical data</li>\n",
    "                <li><strong>teacher_number_of_previously_posted_projects</strong> : numerical data</li>\n",
    "                <li><strong>price</strong> : numerical data</li>\n",
    "                <li><strong>sentiment score's of each of the essay</strong> : numerical data</li>\n",
    "                <li><strong>number of words in the title</strong> : numerical data</li>\n",
    "                <li><strong>number of words in the combine essays</strong> : numerical data</li>\n",
    "            </ul>\n",
    "        And apply the DecisionTree on these features by finding the best hyper paramter as suggested in step 2 and step 3 <br>\n",
    "    </li>\n",
    "    <br>\n",
    "    <li><strong>Conclusion</strong>\n",
    "        <ul>\n",
    "    <li>You need to summarize the results at the end of the notebook, summarize it in the table format. To print out a table please refer to this prettytable library<a href='http://zetcode.com/python/prettytable/'>  link</a> \n",
    "        <img src='summary.JPG' width=400px>\n",
    "    </li>\n",
    "        </ul>\n",
    "</ol>\n",
    "\n",
    "<h1>2. DecisionTree </h1>"
   ]
  },
  {
   "cell_type": "markdown",
   "metadata": {},
   "source": [
    "<h2>2.4 Appling DecisionTree on different kind of featurization as mentioned in the instructions</h2>\n",
    "\n",
    "<br>Apply DecisionTree on different kind of featurization as mentioned in the instructions\n",
    "<br> For Every model that you work on make sure you do the step 2 and step 3 of instrucations"
   ]
  },
  {
   "cell_type": "code",
   "execution_count": 63,
   "metadata": {},
   "outputs": [],
   "source": [
    "def batch_predict(clf, data):\n",
    "    # roc_auc_score(y_true, y_score) the 2nd parameter should be probability estimates of the positive class\n",
    "    # not the predicted outputs\n",
    "    y_data_pred = []\n",
    "    tr_loop = data.shape[0] - data.shape[0]%1000\n",
    "    # consider you X_tr shape is 49041, then your tr_loop will be 49041 - 49041%1000 = 49000\n",
    "    # in this for loop we will iterate unti the last 1000 multiplier\n",
    "    for i in range(0, tr_loop, 1000):\n",
    "        y_data_pred.extend(clf.predict_proba(data[i:i+1000])[:,1])\n",
    "    # we will be predicting for the last data points\n",
    "    if data.shape[0]%1000 !=0:\n",
    "        y_data_pred.extend(clf.predict_proba(data[tr_loop:])[:,1])\n",
    "    \n",
    "    return y_data_pred"
   ]
  },
  {
   "cell_type": "code",
   "execution_count": 64,
   "metadata": {},
   "outputs": [],
   "source": [
    "# we are writing our own function for predict, with defined thresould\n",
    "# we will pick a threshold that will give the least fpr\n",
    "def find_best_threshold(threshould, fpr, tpr):\n",
    "    t = threshould[np.argmax(tpr*(1-fpr))]\n",
    "    # (tpr*(1-fpr)) will be maximum if your fpr is very low and tpr is very high\n",
    "    print(\"the maximum value of tpr*(1-fpr)\", max(tpr*(1-fpr)), \"for threshold\", np.round(t,3))\n",
    "    return t\n",
    "\n",
    "def predict_with_best_t(proba, threshould):\n",
    "    predictions = []\n",
    "    for i in proba:\n",
    "        if i>=threshould:\n",
    "            predictions.append(1)\n",
    "        else:\n",
    "            predictions.append(0)\n",
    "    return predictions"
   ]
  },
  {
   "cell_type": "code",
   "execution_count": 65,
   "metadata": {},
   "outputs": [],
   "source": [
    "def DecisionTree_for_Best_Hyper_Parameter(X_train,y_train,X_test,y_test, Bestmax_depth,Bestmin_samples_split):\n",
    "    from sklearn.tree import DecisionTreeClassifier\n",
    "    from sklearn.metrics import roc_auc_score\n",
    "\n",
    "    model = DecisionTreeClassifier(max_depth=Bestmax_depth,min_samples_split = Bestmin_samples_split,\\\n",
    "                                   class_weight = 'balanced')\n",
    "\n",
    "    model.fit(X_train, y_train)\n",
    "    \n",
    "    y_train_pred = model.predict_proba(X_train)    \n",
    "    y_test_pred = model.predict_proba(X_test)\n",
    "   \n",
    "    #The ROC curve is plotted with TPR against the FPR where TPR is on y-axis and FPR is on the x-axis.\n",
    "    train_fpr, train_tpr, tr_thresholds = roc_curve(y_train, y_train_pred[:, 1])\n",
    "    test_fpr, test_tpr, te_thresholds = roc_curve(y_test, y_test_pred[:, 1])\n",
    "\n",
    "    import seaborn as sns\n",
    "   \n",
    "    print(\"=\"*100)\n",
    "    from sklearn.metrics import confusion_matrix\n",
    "    best_t = find_best_threshold(tr_thresholds, train_fpr, train_tpr)\n",
    "    print(\"Train confusion matrix\")\n",
    "    train_matrix = confusion_matrix(y_train, predict_with_best_t(y_train_pred[:, 1], best_t))\n",
    "    print(train_matrix)\n",
    "                                   \n",
    "    print(\"Test confusion matrix\")\n",
    "    test_matrix = confusion_matrix(y_test, predict_with_best_t(y_test_pred[:, 1], best_t))\n",
    "    print(test_matrix)\n",
    "   \n",
    "    trainAUC= float(\"{0:.2f}\".format(auc(train_fpr, train_tpr)))\n",
    "    testAUC = float(\"{0:.2f}\".format(auc(test_fpr, test_tpr)))\n",
    "\n",
    "    \n",
    "    plt.plot(train_fpr, train_tpr, label=\"train AUC =\"+str(trainAUC))\n",
    "    plt.plot(test_fpr, test_tpr, label=\"Test AUC =\"+str(testAUC))\n",
    "    \n",
    "    # plot AUC curve. AUC curve should show best accuracy rate, since best aplha is used in the logic.\n",
    "    plt.plot(train_fpr, train_tpr, label=\"train AUC =\"+str(trainAUC))\n",
    "    plt.plot(test_fpr, test_tpr, label=\"Test AUC =\"+str(testAUC))\n",
    "    plt.legend()\n",
    "    plt.xlabel(\"FPR\")\n",
    "    plt.ylabel(\"TPR\")\n",
    "    plt.title(\"AUC PLOT\")\n",
    "    plt.grid()\n",
    "    \n",
    "     # Confusiomatrix heatmap.\n",
    "    \n",
    "    fig, (ax1, ax2) = plt.subplots(1,2,sharex=True, sharey=True)\n",
    "  #  plt.figure(figsize=(30, 60))\n",
    "    g1=sns.heatmap(test_matrix, annot=True,fmt='',cbar=True, linewidths =0.3, ax=ax1)\n",
    "    g1.set_xlabel(\"Test confusion matrix\")\n",
    "    g1.axes.get_xaxis().set_visible(True)\n",
    "    g1.axes.get_yaxis().set_visible(False)\n",
    "        \n",
    "    g2=sns.heatmap(train_matrix,annot=True,fmt='',cbar=True,linewidths =0.3,ax=ax2)\n",
    "    g2.set_xlabel(\"Train confusion matrix\")\n",
    "    g2.axes.get_xaxis().set_visible(True)\n",
    "    g2.axes.get_yaxis().set_visible(False)\n",
    "    \n",
    "    plt.show()\n",
    "    return [trainAUC,testAUC]\n",
    "   "
   ]
  },
  {
   "cell_type": "markdown",
   "metadata": {},
   "source": [
    "### Split the normalized data into training and test sets\n",
    "Logic below is simialr as covred in kanalysis_cross_validation(X,y), but here logic is for to  calculate confusion matrix, acuarcy ration for best K as we already foound best K after trying best accuracy for multiple K values.\n",
    "We can apply  K -fold CV to either the hyperparameter tuning, performance reporting, or both. The advantage of this approach is that the performance is less sensitive to unfortunate splits of data. In addition, it utilize data better since each example can be used for both training and validation/testing.\n",
    "\n",
    "Let's use  K -Fold CV to select the hyperparamter n_neighbors of the KNeighborsClassifier:"
   ]
  },
  {
   "cell_type": "markdown",
   "metadata": {},
   "source": [
    "### How to speculate the performance of the model using ROC Curve?\n",
    "#### An excellent model has AUC near to the 1 which means it has good measure of separability. A poor model has AUC near to the 0 which means it has worst measure of separability. In fact it means it is reciprocating the result. It is predicting 0s as 1s and 1s as 0s. And when AUC is 0.5, it means model has no class separation capacity whatsoever"
   ]
  },
  {
   "cell_type": "markdown",
   "metadata": {},
   "source": [
    "### Split the normalized data into training and test sets\n",
    "This step is required to prepare us for the fitting (i.e. training) the #model later. The “X” variable is a collection of all the features. The “y” variable is the target label which specifies the #classification of 1 or 0 based. Our goal will be to identify which category the new data point should fall into. Evaluate the predictions. Evaluate the Model by reviewing the classification report or confusion matrix. By reviewing these tables, we are able to evaluate how accurate our model is with new values.\n"
   ]
  },
  {
   "cell_type": "code",
   "execution_count": 66,
   "metadata": {},
   "outputs": [],
   "source": [
    "# This function is used for passsing various Hyper parameter in a loop,  and get the best parameter \n",
    "# that would give best accuracy. For  each Hyperparemer, predicted value and accuracy  is calculated. \n",
    "# best Hyperparameter  is reHyper  for best accuracy. this is like gridCVSearch but shown plots for various hymer parametr.\n",
    "# after best Hyperparam is returnbed, that is used  and again best AUC plot is drawn.\n",
    "# Items 4 in your query, first three items are covered here.\n",
    "\n",
    "def DecisionTree_HyperParam_Analysis(X_train,y_train,X_test,y_test):\n",
    "    from sklearn import model_selection\n",
    "    from mlxtend.plotting import plot_decision_regions\n",
    "    from sklearn.tree import DecisionTreeClassifier\n",
    "    from sklearn.model_selection import train_test_split\n",
    "    from sklearn.metrics import accuracy_score\n",
    "    from sklearn.metrics import roc_auc_score\n",
    "    import math\n",
    "    from mpl_toolkits.mplot3d import Axes3D\n",
    "    import matplotlib.pyplot as plt\n",
    "\n",
    "    # Import classification report and confusion matrix to evaluate predictions\n",
    "    from sklearn.metrics import classification_report, confusion_matrix\n",
    "\n",
    "    train_auc = []\n",
    "    test_auc = []\n",
    "    max_depth = [1, 5, 10, 20, 30, 50,100,200,300]\n",
    "    min_samples_split =  [5, 10,30,50, 100,200, 300, 500,600,800,1000]\n",
    "    best_accuracy=0.0001\n",
    "    max_depthList =[]\n",
    "    min_samples_splitList = []\n",
    "    Bestmax_depth =-99\n",
    "    Bestmin_samples_split =-99\n",
    "    for depth in max_depth:\n",
    "        for min_sample in min_samples_split:\n",
    "            #HyperParameter = math.log(i)\n",
    "           \n",
    "            max_depthList.append(depth)\n",
    "            min_samples_splitList.append(min_sample)\n",
    "            model  = DecisionTreeClassifier(max_depth=depth,min_samples_split = min_sample,class_weight = 'balanced')\n",
    "\n",
    "            # fitting the model on crossvalidation train\n",
    "            model.fit(X_train, y_train)\n",
    "\n",
    "            # predict the response on the crossvalidation train\n",
    "            y_train_pred = model.predict(X_train)  # predicting the value using cross validation data. \n",
    "\n",
    "            # predict the response on the crossvalidation test\n",
    "            y_test_pred = model.predict(X_test)  # predicting the value using cross validation data. \n",
    "\n",
    "\n",
    "            # evaluate CV accuracy\n",
    "            acc = accuracy_score(y_test, y_test_pred, normalize=True) * float(100)  # I get the accuracy score. \n",
    "            \n",
    "            #print ('Best Accuracy score = %s, For Best Depth = %s, and Best sample  = %s' % (acc, depth,min_sample))\n",
    "            \n",
    "            if acc > best_accuracy:\n",
    "                best_accuracy =acc\n",
    "                Bestmax_depth = depth\n",
    "                Bestmin_samples_split=min_sample\n",
    "                print ('Best Accuracy score = %s, For Best Depth = %s, and Best sample  = %s' % (acc, depth,min_sample)) \n",
    "                \n",
    "                   \n",
    "           # print('\\n Test Accuracy for Hyper Parameter = %s is %s' % (HyperParameter, acc))\n",
    "           # print(\"=========================================\")\n",
    "\n",
    "            # roc_auc_score(y_true, y_score) the 2nd parameter should be probability estimates of the positive class\n",
    "            # not the predicted outputs        \n",
    "            train_auc.append(roc_auc_score(y_train,y_train_pred))\n",
    "            test_auc.append(roc_auc_score(y_test, y_test_pred))\n",
    "        else:\n",
    "            continue\n",
    "    \n",
    "    #print('\\n Test Accuracy for Hyper Parameter = %s is %s' % (BestHyperParam, best_accuracy))\n",
    "    \n",
    "    ax = plt.axes(projection=\"3d\")\n",
    "    ax.plot3D(max_depthList, min_samples_splitList, train_auc)\n",
    "    ax.set_xlabel('Max Depths')\n",
    "    ax.set_ylabel('Min Samples')\n",
    "    ax.set_zlabel('Train AUC')\n",
    "    #plt.plot(LogHyperparams, train_auc, label='Train AUC')\n",
    "    #plt.plot(LogHyperparams, test_auc, label='Test AUC')\n",
    "\n",
    "    #plt.scatter(LogHyperparams, train_auc, label='Train AUC points')\n",
    "    #plt.scatter(LogHyperparams, test_auc, label='Test AUC points')\n",
    "\n",
    "    #plt.legend()\n",
    "    #plt.xlabel(\"Hyperparams: Hyperparameter\")\n",
    "    #plt.ylabel(\"AUC\")\n",
    "    #plt.title(\"AUC vrs Hyperparameter\")\n",
    "    #plt.grid()\n",
    "    #plt.show()\n",
    "    \n",
    "    print (\"Done\")\n",
    "       \n",
    "    return Bestmax_depth,Bestmin_samples_split"
   ]
  },
  {
   "cell_type": "markdown",
   "metadata": {},
   "source": [
    "## 2.5  Feature selection for Best Hyper Parameter /font>"
   ]
  },
  {
   "cell_type": "code",
   "execution_count": 67,
   "metadata": {},
   "outputs": [],
   "source": [
    "## 2.5.1 <font color='red'> Hyper Param-Analysis  <font color='blue'> categorical, numerical features + project_title(BOW) + preprocessed_essay (BOW),<font color='red'> SET 1</font>"
   ]
  },
  {
   "cell_type": "code",
   "execution_count": 68,
   "metadata": {
    "scrolled": false
   },
   "outputs": [
    {
     "name": "stdout",
     "output_type": "stream",
     "text": [
      "Best Accuracy score = 83.93939393939394, For Best Depth = 1, and Best sample  = 5\n",
      "Done\n"
     ]
    },
    {
     "data": {
      "image/png": "[encoded data removed]",
      "text/plain": [
       "<Figure size 432x288 with 1 Axes>"
      ]
     },
     "metadata": {
      "needs_background": "light"
     },
     "output_type": "display_data"
    }
   ],
   "source": [
    "bow_Bestmax_depth,bow_Bestmin_samples_split= DecisionTree_HyperParam_Analysis(X_tr_bow,y_train,X_te_bow,y_test)\n",
    "#print (\"Hyper Param to apply is %s\" % bow_hyperparam)"
   ]
  },
  {
   "cell_type": "markdown",
   "metadata": {},
   "source": [
    "### 2.5.1 <font color='red'> DecisionTree Hyper Param -Analysis on Set 6  <font color='blue'>,<font color='red'> SET 6</font>"
   ]
  },
  {
   "cell_type": "code",
   "execution_count": 69,
   "metadata": {
    "scrolled": true
   },
   "outputs": [
    {
     "name": "stdout",
     "output_type": "stream",
     "text": [
      "Best Accuracy score = 37.878787878787875, For Best Depth = 1, and Best sample  = 5\n",
      "Best Accuracy score = 67.12121212121212, For Best Depth = 5, and Best sample  = 5\n",
      "Best Accuracy score = 67.42424242424242, For Best Depth = 5, and Best sample  = 10\n",
      "Best Accuracy score = 71.96969696969697, For Best Depth = 5, and Best sample  = 500\n",
      "Best Accuracy score = 74.0909090909091, For Best Depth = 10, and Best sample  = 5\n",
      "Best Accuracy score = 75.30303030303031, For Best Depth = 10, and Best sample  = 10\n",
      "Best Accuracy score = 77.12121212121212, For Best Depth = 20, and Best sample  = 5\n",
      "Best Accuracy score = 80.60606060606061, For Best Depth = 30, and Best sample  = 5\n",
      "Best Accuracy score = 80.75757575757576, For Best Depth = 50, and Best sample  = 5\n",
      "Done\n",
      "50\n"
     ]
    },
    {
     "data": {
      "image/png": "[encoded data removed]",
      "text/plain": [
       "<Figure size 432x288 with 1 Axes>"
      ]
     },
     "metadata": {
      "needs_background": "light"
     },
     "output_type": "display_data"
    }
   ],
   "source": [
    "set6_Bestmax_depth,set6_Bestmin_samples_split = DecisionTree_HyperParam_Analysis(X_tr_set6,y_train,X_te_set6,y_test)\n",
    "print (set6_Bestmax_depth)\n",
    "\n",
    "#print (\"Hyper Param to apply is %s\" % set6_hyperparam)"
   ]
  },
  {
   "cell_type": "markdown",
   "metadata": {},
   "source": [
    "### 2.5.2 <font color='red'> DecisionTree Hyper Param -Analysis   <font color='blue'>  on TFIDF Set 2: categorical, numerical features + project_title(TFIDF)+ preprocessed_essay (TFIDF),<font color='red'> SET 2</font>"
   ]
  },
  {
   "cell_type": "code",
   "execution_count": 70,
   "metadata": {
    "scrolled": true
   },
   "outputs": [
    {
     "name": "stdout",
     "output_type": "stream",
     "text": [
      "Best Accuracy score = 83.93939393939394, For Best Depth = 1, and Best sample  = 5\n",
      "Done\n"
     ]
    },
    {
     "data": {
      "image/png": "[encoded data removed]",
      "text/plain": [
       "<Figure size 432x288 with 1 Axes>"
      ]
     },
     "metadata": {
      "needs_background": "light"
     },
     "output_type": "display_data"
    }
   ],
   "source": [
    "tfidf_Bestmax_depth,tfidf_Bestmin_samples_split= DecisionTree_HyperParam_Analysis(X_tr_tfidf,y_train,X_te_tfidf,y_test)\n",
    "#print (\"Hyper Param to apply is %s\" % tfidf_hyperparam)"
   ]
  },
  {
   "cell_type": "markdown",
   "metadata": {},
   "source": [
    "### 2.5.3 <font color='red'> Hyper Parameter-Analysis     <font color='blue'>  on AVG W2V - categorical, numerical features + project_title(AVG W2V )+ preprocessed_essay (AVG W2V ),<font color='red'> SET 3</font>"
   ]
  },
  {
   "cell_type": "code",
   "execution_count": 71,
   "metadata": {},
   "outputs": [
    {
     "name": "stdout",
     "output_type": "stream",
     "text": [
      "Best Accuracy score = 81.96969696969697, For Best Depth = 1, and Best sample  = 5\n",
      "Done\n"
     ]
    },
    {
     "data": {
      "image/png": "[encoded data removed]",
      "text/plain": [
       "<Figure size 432x288 with 1 Axes>"
      ]
     },
     "metadata": {
      "needs_background": "light"
     },
     "output_type": "display_data"
    }
   ],
   "source": [
    "avg_w2v_Bestmax_depth,avg_w2v_Bestmin_samples_split= DecisionTree_HyperParam_Analysis(X_tr_avg_w2v,y_train,X_te_avg_w2v,y_test)\n",
    "#print (\"Hyper Param to apply is %s\" % avgw2v_hyperparam)"
   ]
  },
  {
   "cell_type": "markdown",
   "metadata": {},
   "source": [
    "### 2.5.3 <font color='red'> Hyper Parameter-Analysis     <font color='blue'>  on TFIDF W2V - categorical, numerical features + project_title(TFIDF W2V )+ preprocessed_essay (TFIDF W2V ),<font color='red'> SET 3</font>"
   ]
  },
  {
   "cell_type": "code",
   "execution_count": 72,
   "metadata": {},
   "outputs": [
    {
     "name": "stdout",
     "output_type": "stream",
     "text": [
      "Best Accuracy score = 37.878787878787875, For Best Depth = 1, and Best sample  = 5\n",
      "Best Accuracy score = 55.00000000000001, For Best Depth = 5, and Best sample  = 5\n",
      "Best Accuracy score = 56.36363636363636, For Best Depth = 5, and Best sample  = 300\n",
      "Best Accuracy score = 61.36363636363637, For Best Depth = 5, and Best sample  = 500\n",
      "Best Accuracy score = 66.66666666666666, For Best Depth = 10, and Best sample  = 5\n",
      "Best Accuracy score = 71.81818181818181, For Best Depth = 20, and Best sample  = 5\n",
      "Best Accuracy score = 73.03030303030303, For Best Depth = 20, and Best sample  = 10\n",
      "Best Accuracy score = 74.24242424242425, For Best Depth = 50, and Best sample  = 5\n",
      "Best Accuracy score = 74.39393939393939, For Best Depth = 100, and Best sample  = 5\n",
      "Done\n"
     ]
    },
    {
     "data": {
      "image/png": "[encoded data removed]",
      "text/plain": [
       "<Figure size 432x288 with 1 Axes>"
      ]
     },
     "metadata": {
      "needs_background": "light"
     },
     "output_type": "display_data"
    }
   ],
   "source": [
    "\n",
    "tfidf_w2v_Bestmax_depth,tfidf_w2v_Bestmin_samples_split= DecisionTree_HyperParam_Analysis(X_tr_tfidf_w2v,y_train,X_te_tfidf_w2v,y_test)\n",
    "#print (\"Hyper Param to apply is %s\" % tfidfw2v_hyperparam)"
   ]
  },
  {
   "cell_type": "markdown",
   "metadata": {},
   "source": [
    "### Hyper Param Analysis on TFIDF Set 5: categorical, numerical features + SET 5"
   ]
  },
  {
   "cell_type": "markdown",
   "metadata": {},
   "source": [
    "### DecisionTree Analysis on Best Hyper Parameter"
   ]
  },
  {
   "cell_type": "code",
   "execution_count": 73,
   "metadata": {},
   "outputs": [
    {
     "name": "stdout",
     "output_type": "stream",
     "text": [
      "Best Accuracy score = 54.24242424242425, For Best Depth = 1, and Best sample  = 5\n",
      "Best Accuracy score = 56.81818181818182, For Best Depth = 5, and Best sample  = 5\n",
      "Best Accuracy score = 58.93939393939394, For Best Depth = 5, and Best sample  = 200\n",
      "Best Accuracy score = 66.51515151515152, For Best Depth = 10, and Best sample  = 5\n",
      "Best Accuracy score = 71.21212121212122, For Best Depth = 10, and Best sample  = 200\n",
      "Best Accuracy score = 71.51515151515152, For Best Depth = 20, and Best sample  = 200\n",
      "Best Accuracy score = 75.30303030303031, For Best Depth = 30, and Best sample  = 5\n",
      "Best Accuracy score = 76.36363636363637, For Best Depth = 50, and Best sample  = 5\n",
      "Best Accuracy score = 77.12121212121212, For Best Depth = 100, and Best sample  = 5\n",
      "Done\n"
     ]
    },
    {
     "data": {
      "image/png": "[encoded data removed]",
      "text/plain": [
       "<Figure size 432x288 with 1 Axes>"
      ]
     },
     "metadata": {
      "needs_background": "light"
     },
     "output_type": "display_data"
    }
   ],
   "source": [
    "set5_Bestmax_depth, set5_Bestmin_samples_split = DecisionTree_HyperParam_Analysis(X_tr_set5,y_train,X_te_set5,y_test)\n",
    "#print (\"Hyper Param to apply is %s\" % set5_hyperparam)"
   ]
  },
  {
   "cell_type": "code",
   "execution_count": 74,
   "metadata": {},
   "outputs": [
    {
     "name": "stdout",
     "output_type": "stream",
     "text": [
      "50\n",
      "5\n",
      "====================================================================================================\n",
      "the maximum value of tpr*(1-fpr) 0.9964850615114236 for threshold 1.0\n",
      "Train confusion matrix\n",
      "[[ 202    0]\n",
      " [   4 1134]]\n",
      "Test confusion matrix\n",
      "[[  9  90]\n",
      " [ 40 521]]\n"
     ]
    },
    {
     "data": {
      "image/png": "[encoded data removed]",
      "text/plain": [
       "<Figure size 432x288 with 1 Axes>"
      ]
     },
     "metadata": {
      "needs_background": "light"
     },
     "output_type": "display_data"
    },
    {
     "data": {
      "image/png": "[encoded data removed]",
      "text/plain": [
       "<Figure size 432x288 with 4 Axes>"
      ]
     },
     "metadata": {
      "needs_background": "light"
     },
     "output_type": "display_data"
    }
   ],
   "source": [
    "print (set6_Bestmax_depth)\n",
    "print (set6_Bestmin_samples_split)\n",
    "Set6_trainAUC_analysis,Set6_testAUC_analysis = \\\n",
    "DecisionTree_for_Best_Hyper_Parameter(X_tr_set6,y_train,X_te_set6,y_test,set6_Bestmax_depth,set6_Bestmin_samples_split)"
   ]
  },
  {
   "cell_type": "code",
   "execution_count": 75,
   "metadata": {},
   "outputs": [
    {
     "name": "stdout",
     "output_type": "stream",
     "text": [
      "====================================================================================================\n",
      "the maximum value of tpr*(1-fpr) 0.03447075814787106 for threshold 0.507\n",
      "Train confusion matrix\n",
      "[[   7  195]\n",
      " [   6 1132]]\n",
      "Test confusion matrix\n",
      "[[  0  99]\n",
      " [  7 554]]\n"
     ]
    },
    {
     "data": {
      "image/png": "[encoded data removed]",
      "text/plain": [
       "<Figure size 432x288 with 1 Axes>"
      ]
     },
     "metadata": {
      "needs_background": "light"
     },
     "output_type": "display_data"
    },
    {
     "data": {
      "image/png": "[encoded data removed]",
      "text/plain": [
       "<Figure size 432x288 with 4 Axes>"
      ]
     },
     "metadata": {
      "needs_background": "light"
     },
     "output_type": "display_data"
    }
   ],
   "source": [
    "trainAUC_bow_analysis, testAUC_bow_analysis = \\\n",
    "DecisionTree_for_Best_Hyper_Parameter(X_tr_bow,y_train,X_te_bow,y_test, bow_Bestmax_depth,bow_Bestmin_samples_split)"
   ]
  },
  {
   "cell_type": "code",
   "execution_count": 76,
   "metadata": {},
   "outputs": [
    {
     "name": "stdout",
     "output_type": "stream",
     "text": [
      "====================================================================================================\n",
      "the maximum value of tpr*(1-fpr) 0.953427065026362 for threshold 1.0\n",
      "Train confusion matrix\n",
      "[[ 202    0]\n",
      " [  53 1085]]\n",
      "Test confusion matrix\n",
      "[[  9  90]\n",
      " [ 65 496]]\n"
     ]
    },
    {
     "data": {
      "image/png": "[encoded data removed]",
      "text/plain": [
       "<Figure size 432x288 with 1 Axes>"
      ]
     },
     "metadata": {
      "needs_background": "light"
     },
     "output_type": "display_data"
    },
    {
     "data": {
      "image/png": "[encoded data removed]",
      "text/plain": [
       "<Figure size 432x288 with 4 Axes>"
      ]
     },
     "metadata": {
      "needs_background": "light"
     },
     "output_type": "display_data"
    }
   ],
   "source": [
    "trainAUC_avg_w2v_analysis, testAUC_avg_w2v_analysis = \\\n",
    "DecisionTree_for_Best_Hyper_Parameter(X_tr_set5,y_train,X_te_set5,y_test,  set5_Bestmax_depth,set5_Bestmin_samples_split)"
   ]
  },
  {
   "cell_type": "code",
   "execution_count": 77,
   "metadata": {},
   "outputs": [
    {
     "name": "stdout",
     "output_type": "stream",
     "text": [
      "====================================================================================================\n",
      "the maximum value of tpr*(1-fpr) 0.03447075814787106 for threshold 0.507\n",
      "Train confusion matrix\n",
      "[[   7  195]\n",
      " [   6 1132]]\n",
      "Test confusion matrix\n",
      "[[  0  99]\n",
      " [  7 554]]\n"
     ]
    },
    {
     "data": {
      "image/png": "[encoded data removed]",
      "text/plain": [
       "<Figure size 432x288 with 1 Axes>"
      ]
     },
     "metadata": {
      "needs_background": "light"
     },
     "output_type": "display_data"
    },
    {
     "data": {
      "image/png": "[encoded data removed]",
      "text/plain": [
       "<Figure size 432x288 with 4 Axes>"
      ]
     },
     "metadata": {
      "needs_background": "light"
     },
     "output_type": "display_data"
    }
   ],
   "source": [
    "trainAUC_tfidf_analysis, testAUC_tfidf_analysis = \\\n",
    "DecisionTree_for_Best_Hyper_Parameter(X_tr_tfidf,y_train,X_te_tfidf,y_test,tfidf_Bestmax_depth,tfidf_Bestmin_samples_split)"
   ]
  },
  {
   "cell_type": "code",
   "execution_count": 78,
   "metadata": {},
   "outputs": [
    {
     "name": "stdout",
     "output_type": "stream",
     "text": [
      "100\n",
      "5\n",
      "====================================================================================================\n",
      "the maximum value of tpr*(1-fpr) 0.9982425307557118 for threshold 1.0\n",
      "Train confusion matrix\n",
      "[[ 202    0]\n",
      " [   2 1136]]\n",
      "Test confusion matrix\n",
      "[[ 21  78]\n",
      " [112 449]]\n"
     ]
    },
    {
     "data": {
      "image/png": "[encoded data removed]",
      "text/plain": [
       "<Figure size 432x288 with 1 Axes>"
      ]
     },
     "metadata": {
      "needs_background": "light"
     },
     "output_type": "display_data"
    },
    {
     "data": {
      "image/png": "[encoded data removed]",
      "text/plain": [
       "<Figure size 432x288 with 4 Axes>"
      ]
     },
     "metadata": {
      "needs_background": "light"
     },
     "output_type": "display_data"
    }
   ],
   "source": [
    "print (tfidf_w2v_Bestmax_depth)\n",
    "print (tfidf_w2v_Bestmin_samples_split)\n",
    "\n",
    "trainAUC_tfidf_w2v_analysis, testAUC_tfidf_w2v_analysis = \\\n",
    "DecisionTree_for_Best_Hyper_Parameter(X_tr_tfidf_w2v,y_train,X_te_tfidf_w2v,y_test,tfidf_w2v_Bestmax_depth,tfidf_w2v_Bestmin_samples_split)"
   ]
  },
  {
   "cell_type": "markdown",
   "metadata": {},
   "source": [
    "### 3.0 <font color='Blue'> Pretty Table  SET 3</font>"
   ]
  },
  {
   "cell_type": "code",
   "execution_count": 79,
   "metadata": {},
   "outputs": [
    {
     "name": "stdout",
     "output_type": "stream",
     "text": [
      "+------------------------+-----------+----------+\n",
      "|       Model Type       | Train AUC | Test AUC |\n",
      "+------------------------+-----------+----------+\n",
      "|      BoW_Analysis      |    0.51   |   0.49   |\n",
      "| TFIDF_Avg_W2V_Analysis |    1.0    |   0.49   |\n",
      "|   TFIDF_W2V_Analysis   |    1.0    |   0.51   |\n",
      "|     Set 6 Analysis     |    1.0    |   0.51   |\n",
      "+------------------------+-----------+----------+\n"
     ]
    }
   ],
   "source": [
    "#Draw Pretty Table using Best Analysis. Pretty table is drawn based on \n",
    "#best AUC is calcukated by passing varipus Hyperparameter in loop.\n",
    "\n",
    "from prettytable import PrettyTable\n",
    "    \n",
    "LRTable = PrettyTable()\n",
    "\n",
    "LRTable.field_names = [\"Model Type\", \"Train AUC\", \"Test AUC\"]\n",
    "#LRTable.add_row([\"Regular_Analyis\", Set6_trainAUC_analysis, Set6_trainAUC_analysis])\n",
    "LRTable.add_row([\"BoW_Analysis\", trainAUC_bow_analysis, testAUC_bow_analysis])\n",
    "#LRTable.add_row([\"TFIDF_Analysis\", trainAUC_tfidf, testAUC_tfidf])\n",
    "LRTable.add_row([\"TFIDF_Avg_W2V_Analysis\", trainAUC_avg_w2v_analysis, testAUC_avg_w2v_analysis])\n",
    "LRTable.add_row([\"TFIDF_W2V_Analysis\", trainAUC_tfidf_w2v_analysis, testAUC_tfidf_w2v_analysis])\n",
    "LRTable.add_row([\"Set 6 Analysis\", Set6_trainAUC_analysis, Set6_testAUC_analysis])\n",
    "\n",
    "print (LRTable)"
   ]
  },
  {
   "cell_type": "markdown",
   "metadata": {},
   "source": [
    "<h1>3. Conclusions</h1>"
   ]
  },
  {
   "cell_type": "markdown",
   "metadata": {},
   "source": [
    "DecisionTree is a stastical method for analyzing a dataset in which there are one or more independent variables that determine the outcome. \n",
    "\n",
    "## Summary of above program as below:\n",
    "\n",
    "Lot of plots are drawn for different data set between train and test data. Test data is very near to train data.\n",
    "Please see pretty table for all comparasions.\n",
    "\n",
    "### Step 1: Import the necessary Libraries\n",
    "we will need to import libraries that allow for data analysis and data visualization to get acclimated to the dataset. We will be using pandas, numpy, matplotlib and seaborn to conduct this. Data Exploration libraries\n",
    "\n",
    "### Step 2: Read in the dataset.\n",
    "We will use the pandas .read_csv() method to read in the dataset. Then we will use the. head() method to observe the first few rows of the data, to understand the information better. In our case, the feature(column) headers tell us pretty little. This is fine because we are merely trying to gain insight via classifying new data points by referencing it’s neighboring elements.\n",
    "\n",
    "### Step 3: Standardize (normalize) the data scale to prep for DecisionTree.\n",
    "Because the distance between pairs of points plays a critical part on the classification, it is necessary to normalize the data This will generate an array of values. \n",
    "\n",
    "### Step 4: Split the normalized data into training and test sets.\n",
    "This step is required to prepare us for the fitting (i.e. training) the model later. The “X” variable is a collection of all the features. The “y” variable is the target label which specifies the classification of 1 or 0 based. Our goal will be to identify which category the new data point should fall into.\n",
    "\n",
    "\n",
    "### Step 5: Create and Train the Model.\n",
    "Here we create a DecisionTree Object and use the .fit() method to train the model. Upon completion of the model we should receive confirmation that the training has been complete\n",
    "\n",
    "Please see functions as covered below, used in above program: def DecisionTree_validation(X,y): def \n",
    "\n",
    "### Step 6: Make Predictions.\n",
    "Here we review where our model was accurate and where it misclassified elements.\n",
    "\n",
    "Please see functions as covered below, used in above program: def DecisionTree_validation(X,y):\n",
    "\n",
    "### Step 7: Evaluate the predictions.\n",
    "\n",
    "Evaluate the Model by reviewing the classification report or confusion matrix. By reviewing these tables, we are able to evaluate how accurate our model is with new values.\n",
    "\n",
    "def DecisionTree_validation(X,y):\n",
    "\n",
    "### Setp 8:Classification Report :\n",
    "This tells us our model was around 84% accurate… Print out classification report and confusion matrix\n",
    "\n",
    "I have covered various set to show confusion matrix.\n",
    "\n",
    "Please see section 2. covered various data sets and created confusion matrix.\n",
    "\n",
    "### Step 9: Evaluate alternative Hyper Parameter for better predictions.\n",
    "To simplify the process of evaluating multiple cases of Alpha values, we create a function to derive the error using the average where our predictions were not equal to the test values.\n",
    "\n",
    "Please see section 2. covered various data sets and created error accuracy reports.\n",
    "\n",
    "### Step 10: Adjust Hyper Parameter value per error rate evaluations \n",
    "This is just fine tuning our model to increase accuracy. We will need to retrain our model with the new Alpha.\n",
    "Please see section 3 in above program. we have created confusion matrix for optimal Alpha value for various data sets. As we can see for optimal Alpha, Accuracy is much higher - so prediction is much better.\n",
    "\n"
   ]
  },
  {
   "cell_type": "raw",
   "metadata": {},
   "source": [
    "\n",
    "\n",
    "\n",
    "\n",
    "\n",
    "\n",
    "\n",
    "\n",
    "\n",
    "\n",
    "\n",
    "\n",
    "\n",
    "\n",
    "\n",
    "\n",
    "\n",
    "\n",
    "\n",
    "\n",
    "`4+"
   ]
  }
 ],
 "metadata": {
  "kernelspec": {
   "display_name": "Python 3",
   "language": "python",
   "name": "python3"
  },
  "language_info": {
   "codemirror_mode": {
    "name": "ipython",
    "version": 3
   },
   "file_extension": ".py",
   "mimetype": "text/x-python",
   "name": "python",
   "nbconvert_exporter": "python",
   "pygments_lexer": "ipython3",
   "version": "3.7.5"
  }
 },
 "nbformat": 4,
 "nbformat_minor": 2
}
